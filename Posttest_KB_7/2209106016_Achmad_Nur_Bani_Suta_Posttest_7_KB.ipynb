{
  "nbformat": 4,
  "nbformat_minor": 0,
  "metadata": {
    "colab": {
      "provenance": [],
      "gpuType": "T4"
    },
    "kernelspec": {
      "name": "python3",
      "display_name": "Python 3"
    },
    "language_info": {
      "name": "python"
    },
    "accelerator": "GPU"
  },
  "cells": [
    {
      "cell_type": "markdown",
      "source": [
        "# ACHMAD NUR BANI SUTA (2209106016)\n",
        "## Posttest 7"
      ],
      "metadata": {
        "id": "HRKxragACksu"
      }
    },
    {
      "cell_type": "markdown",
      "source": [
        "### Menghapus Folder Jika Ada"
      ],
      "metadata": {
        "id": "LzUkwy-FCYFt"
      }
    },
    {
      "cell_type": "code",
      "source": [
        "!rm -rf /content/test"
      ],
      "metadata": {
        "id": "5gu5wfElnybl"
      },
      "execution_count": 1,
      "outputs": []
    },
    {
      "cell_type": "code",
      "source": [
        "!rm -rf /content/train"
      ],
      "metadata": {
        "id": "g9_KbntHn2H1"
      },
      "execution_count": 2,
      "outputs": []
    },
    {
      "cell_type": "code",
      "source": [
        "!rm -rf /content/validation"
      ],
      "metadata": {
        "id": "e2pQv6v3n5Hq"
      },
      "execution_count": 3,
      "outputs": []
    },
    {
      "cell_type": "code",
      "source": [
        "!rm -rf /content/labelnames.csv"
      ],
      "metadata": {
        "id": "x6sOSTaPoX3c"
      },
      "execution_count": 4,
      "outputs": []
    },
    {
      "cell_type": "markdown",
      "source": [
        "### Mengekstrak Folder Dataset"
      ],
      "metadata": {
        "id": "EqZ7Lc4nCgZM"
      }
    },
    {
      "cell_type": "markdown",
      "source": [
        "LINK DATASET : https://www.kaggle.com/datasets/ifeanyinneji/nike-adidas-shoes-for-image-classification-dataset/data"
      ],
      "metadata": {
        "id": "MAdF_SV0EUcI"
      }
    },
    {
      "cell_type": "code",
      "source": [
        "!unzip 'archive_6.zip'"
      ],
      "metadata": {
        "colab": {
          "base_uri": "https://localhost:8080/"
        },
        "id": "AMDe3sfAdMLO",
        "outputId": "d07e34a6-1f63-4f72-f1a4-73a4ab513a61"
      },
      "execution_count": 5,
      "outputs": [
        {
          "output_type": "stream",
          "name": "stdout",
          "text": [
            "Archive:  archive_6.zip\n",
            "  inflating: labelnames.csv          \n",
            "  inflating: test/adidas/Adidas (18).jpg  \n",
            "  inflating: test/adidas/Adidas (19).jpg  \n",
            "  inflating: test/adidas/Adidas (20).jpg  \n",
            "  inflating: test/adidas/Adidas (21).JPG  \n",
            "  inflating: test/adidas/Adidas (22).jpg  \n",
            "  inflating: test/adidas/Adidas (23).jpg  \n",
            "  inflating: test/adidas/Adidas (24).jpg  \n",
            "  inflating: test/adidas/Adidas (25).jpg  \n",
            "  inflating: test/adidas/Adidas (26).jpg  \n",
            "  inflating: test/adidas/Adidas (27).jpg  \n",
            "  inflating: test/adidas/aadidas_ (10).jpg  \n",
            "  inflating: test/adidas/aadidas_ (11).jpg  \n",
            "  inflating: test/adidas/aadidas_ (12).jpg  \n",
            "  inflating: test/adidas/aadidas_ (13).jpg  \n",
            "  inflating: test/adidas/aadidas_ (14).jpg  \n",
            "  inflating: test/adidas/aadidas_ (15).jpg  \n",
            "  inflating: test/adidas/aadidas_ (16).jpg  \n",
            "  inflating: test/adidas/aadidas_ (17).jpg  \n",
            "  inflating: test/adidas/aadidas_ (18).jpg  \n",
            "  inflating: test/adidas/aadidas_ (19).jpg  \n",
            "  inflating: test/adidas/aadidas_ (2).jpg  \n",
            "  inflating: test/adidas/aadidas_ (20).jpg  \n",
            "  inflating: test/adidas/aadidas_ (21).jpg  \n",
            "  inflating: test/adidas/aadidas_ (3).jpg  \n",
            "  inflating: test/adidas/aadidas_ (4).jpg  \n",
            "  inflating: test/adidas/aadidas_ (5).jpg  \n",
            "  inflating: test/adidas/aadidas_ (6).jpg  \n",
            "  inflating: test/adidas/aadidas_ (7).jpg  \n",
            "  inflating: test/adidas/aadidas_ (8).jpg  \n",
            "  inflating: test/adidas/aadidas_ (9).jpg  \n",
            "  inflating: test/nike/Image_10.jpg  \n",
            "  inflating: test/nike/Image_100.jpg  \n",
            "  inflating: test/nike/Image_110.jpg  \n",
            "  inflating: test/nike/Image_120.jpg  \n",
            "  inflating: test/nike/Image_130.jpg  \n",
            "  inflating: test/nike/Image_140.jpg  \n",
            "  inflating: test/nike/Image_150.jpg  \n",
            "  inflating: test/nike/Image_160.jpg  \n",
            "  inflating: test/nike/Image_170.jpg  \n",
            "  inflating: test/nike/Image_180.jpg  \n",
            "  inflating: test/nike/Image_190.jpg  \n",
            "  inflating: test/nike/Image_20.jpg  \n",
            "  inflating: test/nike/Image_200.jpg  \n",
            "  inflating: test/nike/Image_210.jpg  \n",
            "  inflating: test/nike/Image_220.jpg  \n",
            "  inflating: test/nike/Image_230.jpg  \n",
            "  inflating: test/nike/Image_240.jpg  \n",
            "  inflating: test/nike/Image_250.jpg  \n",
            "  inflating: test/nike/Image_256.jpg  \n",
            "  inflating: test/nike/Image_257.jpg  \n",
            "  inflating: test/nike/Image_258.jpg  \n",
            "  inflating: test/nike/Image_259.jpg  \n",
            "  inflating: test/nike/Image_260.jpg  \n",
            "  inflating: test/nike/Image_30.jpg  \n",
            "  inflating: test/nike/Image_40.jpg  \n",
            "  inflating: test/nike/Image_50.jpg  \n",
            "  inflating: test/nike/Image_60.jpg  \n",
            "  inflating: test/nike/Image_70.jpg  \n",
            "  inflating: test/nike/Image_80.jpg  \n",
            "  inflating: test/nike/Image_90.jpg  \n",
            "  inflating: train/adidas/Adidas (1).jpg  \n",
            "  inflating: train/adidas/Adidas (10).jpg  \n",
            "  inflating: train/adidas/Adidas (11).jpg  \n",
            "  inflating: train/adidas/Adidas (12).jpg  \n",
            "  inflating: train/adidas/Adidas (13).jpg  \n",
            "  inflating: train/adidas/Adidas (14).jpg  \n",
            "  inflating: train/adidas/Adidas (15).jpg  \n",
            "  inflating: train/adidas/Adidas (16).jpg  \n",
            "  inflating: train/adidas/Adidas (17).jpg  \n",
            "  inflating: train/adidas/Adidas (2).jpg  \n",
            "  inflating: train/adidas/Adidas (28).jpg  \n",
            "  inflating: train/adidas/Adidas (29).jpg  \n",
            "  inflating: train/adidas/Adidas (3).jpg  \n",
            "  inflating: train/adidas/Adidas (30).jpg  \n",
            "  inflating: train/adidas/Adidas (31).jpg  \n",
            "  inflating: train/adidas/Adidas (32).jpg  \n",
            "  inflating: train/adidas/Adidas (33).jpg  \n",
            "  inflating: train/adidas/Adidas (34).jpg  \n",
            "  inflating: train/adidas/Adidas (35).jpg  \n",
            "  inflating: train/adidas/Adidas (36).jpg  \n",
            "  inflating: train/adidas/Adidas (37).jpg  \n",
            "  inflating: train/adidas/Adidas (38).jpg  \n",
            "  inflating: train/adidas/Adidas (39).jpg  \n",
            "  inflating: train/adidas/Adidas (4).jpg  \n",
            "  inflating: train/adidas/Adidas (40).jpg  \n",
            "  inflating: train/adidas/Adidas (41).jpg  \n",
            "  inflating: train/adidas/Adidas (42).jpg  \n",
            "  inflating: train/adidas/Adidas (43).jpg  \n",
            "  inflating: train/adidas/Adidas (44).jpg  \n",
            "  inflating: train/adidas/Adidas (45).jpg  \n",
            "  inflating: train/adidas/Adidas (46).jpg  \n",
            "  inflating: train/adidas/Adidas (47).jpg  \n",
            "  inflating: train/adidas/Adidas (48).jpg  \n",
            "  inflating: train/adidas/Adidas (49).jpg  \n",
            "  inflating: train/adidas/Adidas (5).jpg  \n",
            "  inflating: train/adidas/Adidas (50).jpg  \n",
            "  inflating: train/adidas/Adidas (51).jpg  \n",
            "  inflating: train/adidas/Adidas (52).jpg  \n",
            "  inflating: train/adidas/Adidas (53).jpg  \n",
            "  inflating: train/adidas/Adidas (54).JPG  \n",
            "  inflating: train/adidas/Adidas (55).jpg  \n",
            "  inflating: train/adidas/Adidas (56).jpg  \n",
            "  inflating: train/adidas/Adidas (57).jpg  \n",
            "  inflating: train/adidas/Adidas (58).jpg  \n",
            "  inflating: train/adidas/Adidas (59).jpg  \n",
            "  inflating: train/adidas/Adidas (6).jpg  \n",
            "  inflating: train/adidas/Adidas (60).jpg  \n",
            "  inflating: train/adidas/Adidas (61).jpg  \n",
            "  inflating: train/adidas/Adidas (62).jpg  \n",
            "  inflating: train/adidas/Adidas (63).jpg  \n",
            "  inflating: train/adidas/Adidas (64).jpg  \n",
            "  inflating: train/adidas/Adidas (65).JPG  \n",
            "  inflating: train/adidas/Adidas (66).jpg  \n",
            "  inflating: train/adidas/Adidas (67).jpg  \n",
            "  inflating: train/adidas/Adidas (68).JPG  \n",
            "  inflating: train/adidas/Adidas (69).jpg  \n",
            "  inflating: train/adidas/Adidas (7).jpg  \n",
            "  inflating: train/adidas/Adidas (70).jpg  \n",
            "  inflating: train/adidas/Adidas (71).jpg  \n",
            "  inflating: train/adidas/Adidas (72).jpg  \n",
            "  inflating: train/adidas/Adidas (73).jpg  \n",
            "  inflating: train/adidas/Adidas (74).jpg  \n",
            "  inflating: train/adidas/Adidas (75).JPG  \n",
            "  inflating: train/adidas/Adidas (76).jpg  \n",
            "  inflating: train/adidas/Adidas (77).jpg  \n",
            "  inflating: train/adidas/Adidas (78).jpg  \n",
            "  inflating: train/adidas/Adidas (79).jpg  \n",
            "  inflating: train/adidas/Adidas (8).jpg  \n",
            "  inflating: train/adidas/Adidas (80).jpg  \n",
            "  inflating: train/adidas/Adidas (81).jpg  \n",
            "  inflating: train/adidas/Adidas (82).jpg  \n",
            "  inflating: train/adidas/Adidas (83).jpg  \n",
            "  inflating: train/adidas/Adidas (84).jpg  \n",
            "  inflating: train/adidas/Adidas (85).jpg  \n",
            "  inflating: train/adidas/Adidas (86).jpg  \n",
            "  inflating: train/adidas/Adidas (87).jpg  \n",
            "  inflating: train/adidas/Adidas (88).jpg  \n",
            "  inflating: train/adidas/Adidas (89).jpg  \n",
            "  inflating: train/adidas/Adidas (9).jpg  \n",
            "  inflating: train/adidas/aadidas_ (22).jpg  \n",
            "  inflating: train/adidas/aadidas_ (23).jpg  \n",
            "  inflating: train/adidas/aadidas_ (24).jpg  \n",
            "  inflating: train/adidas/adidas_ (1).jpg  \n",
            "  inflating: train/adidas/adidas_ (10).jpg  \n",
            "  inflating: train/adidas/adidas_ (100).jpg  \n",
            "  inflating: train/adidas/adidas_ (101).jpg  \n",
            "  inflating: train/adidas/adidas_ (102).jpg  \n",
            "  inflating: train/adidas/adidas_ (103).jpg  \n",
            "  inflating: train/adidas/adidas_ (104).jpg  \n",
            "  inflating: train/adidas/adidas_ (105).jpg  \n",
            "  inflating: train/adidas/adidas_ (106).jpg  \n",
            "  inflating: train/adidas/adidas_ (107).jpg  \n",
            "  inflating: train/adidas/adidas_ (108).jpg  \n",
            "  inflating: train/adidas/adidas_ (109).jpg  \n",
            "  inflating: train/adidas/adidas_ (11).jpg  \n",
            "  inflating: train/adidas/adidas_ (110).jpg  \n",
            "  inflating: train/adidas/adidas_ (111).jpg  \n",
            "  inflating: train/adidas/adidas_ (112).jpg  \n",
            "  inflating: train/adidas/adidas_ (113).jpg  \n",
            "  inflating: train/adidas/adidas_ (114).jpg  \n",
            "  inflating: train/adidas/adidas_ (115).jpg  \n",
            "  inflating: train/adidas/adidas_ (116).jpg  \n",
            "  inflating: train/adidas/adidas_ (117).jpg  \n",
            "  inflating: train/adidas/adidas_ (118).jpg  \n",
            "  inflating: train/adidas/adidas_ (119).jpg  \n",
            "  inflating: train/adidas/adidas_ (12).jpg  \n",
            "  inflating: train/adidas/adidas_ (120).jpg  \n",
            "  inflating: train/adidas/adidas_ (121).jpg  \n",
            "  inflating: train/adidas/adidas_ (122).jpg  \n",
            "  inflating: train/adidas/adidas_ (123).jpg  \n",
            "  inflating: train/adidas/adidas_ (124).jpg  \n",
            "  inflating: train/adidas/adidas_ (125).jpg  \n",
            "  inflating: train/adidas/adidas_ (126).jpg  \n",
            "  inflating: train/adidas/adidas_ (127).jpg  \n",
            "  inflating: train/adidas/adidas_ (128).jpg  \n",
            "  inflating: train/adidas/adidas_ (129).jpg  \n",
            "  inflating: train/adidas/adidas_ (13).jpg  \n",
            "  inflating: train/adidas/adidas_ (130).jpg  \n",
            "  inflating: train/adidas/adidas_ (131).jpg  \n",
            "  inflating: train/adidas/adidas_ (132).jpg  \n",
            "  inflating: train/adidas/adidas_ (133).jpg  \n",
            "  inflating: train/adidas/adidas_ (134).jpg  \n",
            "  inflating: train/adidas/adidas_ (135).jpg  \n",
            "  inflating: train/adidas/adidas_ (136).jpg  \n",
            "  inflating: train/adidas/adidas_ (137).jpg  \n",
            "  inflating: train/adidas/adidas_ (138).jpg  \n",
            "  inflating: train/adidas/adidas_ (139).jpg  \n",
            "  inflating: train/adidas/adidas_ (14).jpg  \n",
            "  inflating: train/adidas/adidas_ (140).jpg  \n",
            "  inflating: train/adidas/adidas_ (141).jpg  \n",
            "  inflating: train/adidas/adidas_ (142).jpg  \n",
            "  inflating: train/adidas/adidas_ (143).jpg  \n",
            "  inflating: train/adidas/adidas_ (144).jpg  \n",
            "  inflating: train/adidas/adidas_ (145).jpg  \n",
            "  inflating: train/adidas/adidas_ (146).jpg  \n",
            "  inflating: train/adidas/adidas_ (147).jpg  \n",
            "  inflating: train/adidas/adidas_ (148).jpg  \n",
            "  inflating: train/adidas/adidas_ (15).jpg  \n",
            "  inflating: train/adidas/adidas_ (16).jpg  \n",
            "  inflating: train/adidas/adidas_ (17).jpg  \n",
            "  inflating: train/adidas/adidas_ (18).jpg  \n",
            "  inflating: train/adidas/adidas_ (19).jpg  \n",
            "  inflating: train/adidas/adidas_ (2).jpg  \n",
            "  inflating: train/adidas/adidas_ (20).jpg  \n",
            "  inflating: train/adidas/adidas_ (21).jpg  \n",
            "  inflating: train/adidas/adidas_ (22).jpg  \n",
            "  inflating: train/adidas/adidas_ (23).jpg  \n",
            "  inflating: train/adidas/adidas_ (24).jpg  \n",
            "  inflating: train/adidas/adidas_ (25).jpg  \n",
            "  inflating: train/adidas/adidas_ (26).jpg  \n",
            "  inflating: train/adidas/adidas_ (27).jpg  \n",
            "  inflating: train/adidas/adidas_ (28).jpg  \n",
            "  inflating: train/adidas/adidas_ (29).jpg  \n",
            "  inflating: train/adidas/adidas_ (3).jpg  \n",
            "  inflating: train/adidas/adidas_ (30).jpg  \n",
            "  inflating: train/adidas/adidas_ (31).jpg  \n",
            "  inflating: train/adidas/adidas_ (32).jpg  \n",
            "  inflating: train/adidas/adidas_ (33).jpg  \n",
            "  inflating: train/adidas/adidas_ (34).jpg  \n",
            "  inflating: train/adidas/adidas_ (35).jpg  \n",
            "  inflating: train/adidas/adidas_ (36).jpg  \n",
            "  inflating: train/adidas/adidas_ (37).jpg  \n",
            "  inflating: train/adidas/adidas_ (38).jpg  \n",
            "  inflating: train/adidas/adidas_ (39).jpg  \n",
            "  inflating: train/adidas/adidas_ (4).jpg  \n",
            "  inflating: train/adidas/adidas_ (40).jpg  \n",
            "  inflating: train/adidas/adidas_ (41).jpg  \n",
            "  inflating: train/adidas/adidas_ (42).jpg  \n",
            "  inflating: train/adidas/adidas_ (43).jpg  \n",
            "  inflating: train/adidas/adidas_ (44).jpg  \n",
            "  inflating: train/adidas/adidas_ (45).jpg  \n",
            "  inflating: train/adidas/adidas_ (46).jpg  \n",
            "  inflating: train/adidas/adidas_ (47).jpg  \n",
            "  inflating: train/adidas/adidas_ (48).jpg  \n",
            "  inflating: train/adidas/adidas_ (49).jpg  \n",
            "  inflating: train/adidas/adidas_ (5).jpg  \n",
            "  inflating: train/adidas/adidas_ (50).jpg  \n",
            "  inflating: train/adidas/adidas_ (51).jpg  \n",
            "  inflating: train/adidas/adidas_ (52).jpg  \n",
            "  inflating: train/adidas/adidas_ (53).jpg  \n",
            "  inflating: train/adidas/adidas_ (54).jpg  \n",
            "  inflating: train/adidas/adidas_ (55).jpg  \n",
            "  inflating: train/adidas/adidas_ (56).jpg  \n",
            "  inflating: train/adidas/adidas_ (57).jpg  \n",
            "  inflating: train/adidas/adidas_ (58).jpg  \n",
            "  inflating: train/adidas/adidas_ (59).jpg  \n",
            "  inflating: train/adidas/adidas_ (6).jpg  \n",
            "  inflating: train/adidas/adidas_ (60).jpg  \n",
            "  inflating: train/adidas/adidas_ (61).jpg  \n",
            "  inflating: train/adidas/adidas_ (62).jpg  \n",
            "  inflating: train/adidas/adidas_ (63).jpg  \n",
            "  inflating: train/adidas/adidas_ (64).jpg  \n",
            "  inflating: train/adidas/adidas_ (65).jpg  \n",
            "  inflating: train/adidas/adidas_ (66).jpg  \n",
            "  inflating: train/adidas/adidas_ (67).jpg  \n",
            "  inflating: train/adidas/adidas_ (68).jpg  \n",
            "  inflating: train/adidas/adidas_ (69).jpg  \n",
            "  inflating: train/adidas/adidas_ (7).jpg  \n",
            "  inflating: train/adidas/adidas_ (70).jpg  \n",
            "  inflating: train/adidas/adidas_ (71).jpg  \n",
            "  inflating: train/adidas/adidas_ (72).jpg  \n",
            "  inflating: train/adidas/adidas_ (73).jpg  \n",
            "  inflating: train/adidas/adidas_ (74).jpg  \n",
            "  inflating: train/adidas/adidas_ (75).jpg  \n",
            "  inflating: train/adidas/adidas_ (76).jpg  \n",
            "  inflating: train/adidas/adidas_ (77).jpg  \n",
            "  inflating: train/adidas/adidas_ (78).jpg  \n",
            "  inflating: train/adidas/adidas_ (79).jpg  \n",
            "  inflating: train/adidas/adidas_ (8).jpg  \n",
            "  inflating: train/adidas/adidas_ (80).jpg  \n",
            "  inflating: train/adidas/adidas_ (81).jpg  \n",
            "  inflating: train/adidas/adidas_ (82).jpg  \n",
            "  inflating: train/adidas/adidas_ (83).jpg  \n",
            "  inflating: train/adidas/adidas_ (84).jpg  \n",
            "  inflating: train/adidas/adidas_ (85).jpg  \n",
            "  inflating: train/adidas/adidas_ (86).jpg  \n",
            "  inflating: train/adidas/adidas_ (87).jpg  \n",
            "  inflating: train/adidas/adidas_ (88).jpg  \n",
            "  inflating: train/adidas/adidas_ (89).jpg  \n",
            "  inflating: train/adidas/adidas_ (9).jpg  \n",
            "  inflating: train/adidas/adidas_ (90).jpg  \n",
            "  inflating: train/adidas/adidas_ (91).jpg  \n",
            "  inflating: train/adidas/adidas_ (92).jpg  \n",
            "  inflating: train/adidas/adidas_ (93).jpg  \n",
            "  inflating: train/adidas/adidas_ (94).jpg  \n",
            "  inflating: train/adidas/adidas_ (95).jpg  \n",
            "  inflating: train/adidas/adidas_ (96).jpg  \n",
            "  inflating: train/adidas/adidas_ (97).jpg  \n",
            "  inflating: train/adidas/adidas_ (98).jpg  \n",
            "  inflating: train/adidas/adidas_ (99).jpg  \n",
            "  inflating: train/nike/Image_1.jpg  \n",
            "  inflating: train/nike/Image_101.jpg  \n",
            "  inflating: train/nike/Image_102.jpg  \n",
            "  inflating: train/nike/Image_103.jpg  \n",
            "  inflating: train/nike/Image_104.JPG  \n",
            "  inflating: train/nike/Image_105.jpg  \n",
            "  inflating: train/nike/Image_106.jpg  \n",
            "  inflating: train/nike/Image_107.jpg  \n",
            "  inflating: train/nike/Image_108.jpg  \n",
            "  inflating: train/nike/Image_109.jpg  \n",
            "  inflating: train/nike/Image_11.jpg  \n",
            "  inflating: train/nike/Image_111.jpg  \n",
            "  inflating: train/nike/Image_112.jpg  \n",
            "  inflating: train/nike/Image_113.jpg  \n",
            "  inflating: train/nike/Image_114.jpg  \n",
            "  inflating: train/nike/Image_115.jpg  \n",
            "  inflating: train/nike/Image_116.jpg  \n",
            "  inflating: train/nike/Image_117.jpg  \n",
            "  inflating: train/nike/Image_118.jpg  \n",
            "  inflating: train/nike/Image_119.jpg  \n",
            "  inflating: train/nike/Image_12.JPG  \n",
            "  inflating: train/nike/Image_121.jpg  \n",
            "  inflating: train/nike/Image_122.jpg  \n",
            "  inflating: train/nike/Image_123.jpg  \n",
            "  inflating: train/nike/Image_124.jpg  \n",
            "  inflating: train/nike/Image_125.jpg  \n",
            "  inflating: train/nike/Image_126.jpg  \n",
            "  inflating: train/nike/Image_127.JPG  \n",
            "  inflating: train/nike/Image_128.jpg  \n",
            "  inflating: train/nike/Image_129.jpg  \n",
            "  inflating: train/nike/Image_13.JPG  \n",
            "  inflating: train/nike/Image_131.jpg  \n",
            "  inflating: train/nike/Image_132.jpg  \n",
            "  inflating: train/nike/Image_133.jpg  \n",
            "  inflating: train/nike/Image_134.jpg  \n",
            "  inflating: train/nike/Image_135.jpg  \n",
            "  inflating: train/nike/Image_136.jpg  \n",
            "  inflating: train/nike/Image_137.jpg  \n",
            "  inflating: train/nike/Image_138.jpg  \n",
            "  inflating: train/nike/Image_139.jpg  \n",
            "  inflating: train/nike/Image_14.jpg  \n",
            "  inflating: train/nike/Image_141.jpg  \n",
            "  inflating: train/nike/Image_142.jpg  \n",
            "  inflating: train/nike/Image_143.jpg  \n",
            "  inflating: train/nike/Image_144.jpg  \n",
            "  inflating: train/nike/Image_145.jpg  \n",
            "  inflating: train/nike/Image_146.jpg  \n",
            "  inflating: train/nike/Image_147.jpg  \n",
            "  inflating: train/nike/Image_148.jpg  \n",
            "  inflating: train/nike/Image_149.jpg  \n",
            "  inflating: train/nike/Image_15.jpg  \n",
            "  inflating: train/nike/Image_151.jpg  \n",
            "  inflating: train/nike/Image_152.jpg  \n",
            "  inflating: train/nike/Image_153.jpg  \n",
            "  inflating: train/nike/Image_154.jpg  \n",
            "  inflating: train/nike/Image_155.jpg  \n",
            "  inflating: train/nike/Image_156.jpg  \n",
            "  inflating: train/nike/Image_157.jpg  \n",
            "  inflating: train/nike/Image_158.jpg  \n",
            "  inflating: train/nike/Image_159.jpg  \n",
            "  inflating: train/nike/Image_16.JPG  \n",
            "  inflating: train/nike/Image_161.jpg  \n",
            "  inflating: train/nike/Image_162.jpg  \n",
            "  inflating: train/nike/Image_163.jpg  \n",
            "  inflating: train/nike/Image_164.jpg  \n",
            "  inflating: train/nike/Image_165.jpg  \n",
            "  inflating: train/nike/Image_166.jpg  \n",
            "  inflating: train/nike/Image_167.jpg  \n",
            "  inflating: train/nike/Image_168.jpg  \n",
            "  inflating: train/nike/Image_169.jpg  \n",
            "  inflating: train/nike/Image_17.jpg  \n",
            "  inflating: train/nike/Image_171.jpg  \n",
            "  inflating: train/nike/Image_172.jpg  \n",
            "  inflating: train/nike/Image_173.jpg  \n",
            "  inflating: train/nike/Image_174.jpg  \n",
            "  inflating: train/nike/Image_175.jpg  \n",
            "  inflating: train/nike/Image_176.jpg  \n",
            "  inflating: train/nike/Image_177.jpg  \n",
            "  inflating: train/nike/Image_178.jpg  \n",
            "  inflating: train/nike/Image_179.jpg  \n",
            "  inflating: train/nike/Image_18.jpg  \n",
            "  inflating: train/nike/Image_181.jpg  \n",
            "  inflating: train/nike/Image_182.jpg  \n",
            "  inflating: train/nike/Image_183.jpg  \n",
            "  inflating: train/nike/Image_184.jpg  \n",
            "  inflating: train/nike/Image_185.jpg  \n",
            "  inflating: train/nike/Image_186.jpg  \n",
            "  inflating: train/nike/Image_187.jpg  \n",
            "  inflating: train/nike/Image_188.jpg  \n",
            "  inflating: train/nike/Image_189.jpg  \n",
            "  inflating: train/nike/Image_19.jpg  \n",
            "  inflating: train/nike/Image_191.jpg  \n",
            "  inflating: train/nike/Image_192.jpg  \n",
            "  inflating: train/nike/Image_193.JPG  \n",
            "  inflating: train/nike/Image_194.jpg  \n",
            "  inflating: train/nike/Image_195.jpg  \n",
            "  inflating: train/nike/Image_196.jpg  \n",
            "  inflating: train/nike/Image_197.jpg  \n",
            "  inflating: train/nike/Image_198.jpg  \n",
            "  inflating: train/nike/Image_199.jpg  \n",
            "  inflating: train/nike/Image_2.JPG  \n",
            "  inflating: train/nike/Image_201.jpg  \n",
            "  inflating: train/nike/Image_202.jpg  \n",
            "  inflating: train/nike/Image_203.jpg  \n",
            "  inflating: train/nike/Image_204.jpg  \n",
            "  inflating: train/nike/Image_205.jpg  \n",
            "  inflating: train/nike/Image_206.jpg  \n",
            "  inflating: train/nike/Image_207.jpg  \n",
            "  inflating: train/nike/Image_208.jpg  \n",
            "  inflating: train/nike/Image_209.jpg  \n",
            "  inflating: train/nike/Image_21.jpg  \n",
            "  inflating: train/nike/Image_211.jpg  \n",
            "  inflating: train/nike/Image_212.jpg  \n",
            "  inflating: train/nike/Image_213.jpg  \n",
            "  inflating: train/nike/Image_214.jpg  \n",
            "  inflating: train/nike/Image_215.jpg  \n",
            "  inflating: train/nike/Image_216.jpg  \n",
            "  inflating: train/nike/Image_217.jpg  \n",
            "  inflating: train/nike/Image_218.jpg  \n",
            "  inflating: train/nike/Image_219.jpg  \n",
            "  inflating: train/nike/Image_22.jpg  \n",
            "  inflating: train/nike/Image_221.jpg  \n",
            "  inflating: train/nike/Image_222.jpg  \n",
            "  inflating: train/nike/Image_223.jpg  \n",
            "  inflating: train/nike/Image_224.jpg  \n",
            "  inflating: train/nike/Image_225.jpg  \n",
            "  inflating: train/nike/Image_226.jpg  \n",
            "  inflating: train/nike/Image_227.jpg  \n",
            "  inflating: train/nike/Image_228.jpg  \n",
            "  inflating: train/nike/Image_229.jpg  \n",
            "  inflating: train/nike/Image_23.jpg  \n",
            "  inflating: train/nike/Image_231.jpg  \n",
            "  inflating: train/nike/Image_232.jpg  \n",
            "  inflating: train/nike/Image_233.jpg  \n",
            "  inflating: train/nike/Image_234.jpg  \n",
            "  inflating: train/nike/Image_235.jpg  \n",
            "  inflating: train/nike/Image_236.jpg  \n",
            "  inflating: train/nike/Image_237.jpg  \n",
            "  inflating: train/nike/Image_238.jpg  \n",
            "  inflating: train/nike/Image_239.jpg  \n",
            "  inflating: train/nike/Image_24.JPG  \n",
            "  inflating: train/nike/Image_241.jpg  \n",
            "  inflating: train/nike/Image_242.jpg  \n",
            "  inflating: train/nike/Image_243.jpg  \n",
            "  inflating: train/nike/Image_244.jpg  \n",
            "  inflating: train/nike/Image_245.jpg  \n",
            "  inflating: train/nike/Image_246.jpg  \n",
            "  inflating: train/nike/Image_247.jpg  \n",
            "  inflating: train/nike/Image_248.jpg  \n",
            "  inflating: train/nike/Image_249.jpg  \n",
            "  inflating: train/nike/Image_25.jpg  \n",
            "  inflating: train/nike/Image_251.jpg  \n",
            "  inflating: train/nike/Image_252.JPG  \n",
            "  inflating: train/nike/Image_253.jpg  \n",
            "  inflating: train/nike/Image_254.jpg  \n",
            "  inflating: train/nike/Image_255.jpg  \n",
            "  inflating: train/nike/Image_26.jpg  \n",
            "  inflating: train/nike/Image_27.jpg  \n",
            "  inflating: train/nike/Image_28.jpg  \n",
            "  inflating: train/nike/Image_29.jpg  \n",
            "  inflating: train/nike/Image_3.jpg  \n",
            "  inflating: train/nike/Image_31.jpg  \n",
            "  inflating: train/nike/Image_32.jpg  \n",
            "  inflating: train/nike/Image_33.jpg  \n",
            "  inflating: train/nike/Image_34.jpg  \n",
            "  inflating: train/nike/Image_35.jpg  \n",
            "  inflating: train/nike/Image_36.jpg  \n",
            "  inflating: train/nike/Image_37.jpg  \n",
            "  inflating: train/nike/Image_38.jpg  \n",
            "  inflating: train/nike/Image_39.JPG  \n",
            "  inflating: train/nike/Image_4.jpg  \n",
            "  inflating: train/nike/Image_41.jpg  \n",
            "  inflating: train/nike/Image_42.jpg  \n",
            "  inflating: train/nike/Image_43.jpg  \n",
            "  inflating: train/nike/Image_44.jpg  \n",
            "  inflating: train/nike/Image_45.jpg  \n",
            "  inflating: train/nike/Image_46.jpg  \n",
            "  inflating: train/nike/Image_47.jpg  \n",
            "  inflating: train/nike/Image_48.jpg  \n",
            "  inflating: train/nike/Image_49.jpg  \n",
            "  inflating: train/nike/Image_5.jpg  \n",
            "  inflating: train/nike/Image_51.jpg  \n",
            "  inflating: train/nike/Image_52.jpg  \n",
            "  inflating: train/nike/Image_53.jpg  \n",
            "  inflating: train/nike/Image_54.jpg  \n",
            "  inflating: train/nike/Image_55.jpg  \n",
            "  inflating: train/nike/Image_56.jpg  \n",
            "  inflating: train/nike/Image_57.jpg  \n",
            "  inflating: train/nike/Image_58.jpg  \n",
            "  inflating: train/nike/Image_59.jpg  \n",
            "  inflating: train/nike/Image_6.jpg  \n",
            "  inflating: train/nike/Image_61.jpg  \n",
            "  inflating: train/nike/Image_62.jpg  \n",
            "  inflating: train/nike/Image_63.jpg  \n",
            "  inflating: train/nike/Image_64.JPG  \n",
            "  inflating: train/nike/Image_65.jpg  \n",
            "  inflating: train/nike/Image_66.jpg  \n",
            "  inflating: train/nike/Image_67.jpg  \n",
            "  inflating: train/nike/Image_68.jpg  \n",
            "  inflating: train/nike/Image_69.jpg  \n",
            "  inflating: train/nike/Image_7.JPG  \n",
            "  inflating: train/nike/Image_71.jpg  \n",
            "  inflating: train/nike/Image_72.jpg  \n",
            "  inflating: train/nike/Image_73.JPG  \n",
            "  inflating: train/nike/Image_74.jpg  \n",
            "  inflating: train/nike/Image_75.jpg  \n",
            "  inflating: train/nike/Image_76.jpg  \n",
            "  inflating: train/nike/Image_77.jpg  \n",
            "  inflating: train/nike/Image_78.JPG  \n",
            "  inflating: train/nike/Image_79.jpg  \n",
            "  inflating: train/nike/Image_8.JPG  \n",
            "  inflating: train/nike/Image_81.jpg  \n",
            "  inflating: train/nike/Image_82.jpg  \n",
            "  inflating: train/nike/Image_83.jpg  \n",
            "  inflating: train/nike/Image_84.jpg  \n",
            "  inflating: train/nike/Image_85.jpg  \n",
            "  inflating: train/nike/Image_86.jpg  \n",
            "  inflating: train/nike/Image_87.JPG  \n",
            "  inflating: train/nike/Image_88.jpg  \n",
            "  inflating: train/nike/Image_89.jpg  \n",
            "  inflating: train/nike/Image_9.jpg  \n",
            "  inflating: train/nike/Image_91.jpg  \n",
            "  inflating: train/nike/Image_92.jpg  \n",
            "  inflating: train/nike/Image_93.jpg  \n",
            "  inflating: train/nike/Image_94.jpg  \n",
            "  inflating: train/nike/Image_95.jpg  \n",
            "  inflating: train/nike/Image_96.jpg  \n",
            "  inflating: train/nike/Image_97.jpg  \n",
            "  inflating: train/nike/Image_98.jpg  \n",
            "  inflating: train/nike/Image_99.JPG  \n",
            "  inflating: validation/adidas/adidas_ (149).jpg  \n",
            "  inflating: validation/adidas/adidas_ (150).jpg  \n",
            "  inflating: validation/adidas/adidas_ (151).jpg  \n",
            "  inflating: validation/adidas/adidas_ (152).jpg  \n",
            "  inflating: validation/adidas/adidas_ (153).jpg  \n",
            "  inflating: validation/adidas/adidas_ (154).jpg  \n",
            "  inflating: validation/adidas/adidas_ (155).jpg  \n",
            "  inflating: validation/adidas/adidass_(11).jpg  \n",
            "  inflating: validation/adidas/adidass_(12).jpg  \n",
            "  inflating: validation/adidas/adidass_(13).jpg  \n",
            "  inflating: validation/adidas/adidass_(14).jpg  \n",
            "  inflating: validation/adidas/adidass_(15).jpg  \n",
            "  inflating: validation/adidas/adidass_(16).jpg  \n",
            "  inflating: validation/adidas/adidass_(17).jpg  \n",
            "  inflating: validation/adidas/adidass_(18).jpg  \n",
            "  inflating: validation/adidas/adidass_(19).jpg  \n",
            "  inflating: validation/adidas/adidass_(20).jpg  \n",
            "  inflating: validation/adidas/adidass_(21).jpg  \n",
            "  inflating: validation/adidas/adidass_(22).jpg  \n",
            "  inflating: validation/adidas/adidass_(23).jpg  \n",
            "  inflating: validation/adidas/adidass_(24).jpg  \n",
            "  inflating: validation/adidas/adidass_(25).jpg  \n",
            "  inflating: validation/adidas/adidass_(26).jpg  \n",
            "  inflating: validation/adidas/adidass_(27).jpg  \n",
            "  inflating: validation/adidas/adidass_(28).jpg  \n",
            "  inflating: validation/adidas/adidass_(29).jpg  \n",
            "  inflating: validation/adidas/adidass_(30).jpg  \n",
            "  inflating: validation/nike/Image_261.jpg  \n",
            "  inflating: validation/nike/Image_262.jpg  \n",
            "  inflating: validation/nike/Image_263.jpg  \n",
            "  inflating: validation/nike/Image_264.jpg  \n",
            "  inflating: validation/nike/Image_265.jpg  \n",
            "  inflating: validation/nike/Image_266.jpg  \n",
            "  inflating: validation/nike/Image_267.jpg  \n",
            "  inflating: validation/nike/Image_268.jpg  \n",
            "  inflating: validation/nike/Image_269.jpg  \n",
            "  inflating: validation/nike/Image_270.jpg  \n",
            "  inflating: validation/nike/Image_271.jpg  \n",
            "  inflating: validation/nike/Image_272.jpg  \n",
            "  inflating: validation/nike/Image_273.jpg  \n",
            "  inflating: validation/nike/Image_274.jpg  \n",
            "  inflating: validation/nike/Image_275.jpg  \n",
            "  inflating: validation/nike/Image_276.JPG  \n",
            "  inflating: validation/nike/Image_277.jpg  \n",
            "  inflating: validation/nike/Image_278.jpg  \n",
            "  inflating: validation/nike/Image_279.jpg  \n",
            "  inflating: validation/nike/Image_280.jpg  \n",
            "  inflating: validation/nike/Image_281.jpg  \n",
            "  inflating: validation/nike/Image_282.jpg  \n",
            "  inflating: validation/nike/Image_289.jpg  \n",
            "  inflating: validation/nike/Image_290.jpg  \n",
            "  inflating: validation/nike/Image_291.jpg  \n",
            "  inflating: validation/nike/Image_292.jpg  \n",
            "  inflating: validation/nike/Image_299.jpg  \n",
            "  inflating: validation/nike/Image_300.jpg  \n"
          ]
        }
      ]
    },
    {
      "cell_type": "code",
      "source": [
        "from tensorflow.keras.preprocessing.image import ImageDataGenerator"
      ],
      "metadata": {
        "id": "yMfHPMVqdQqa"
      },
      "execution_count": 6,
      "outputs": []
    },
    {
      "cell_type": "markdown",
      "source": [
        "### Mengubah Bentuk Dari Train dan Val"
      ],
      "metadata": {
        "id": "6ViAdSKyCyPQ"
      }
    },
    {
      "cell_type": "code",
      "source": [
        "train_datagen = ImageDataGenerator(\n",
        "    rescale = 1/255,\n",
        "    rotation_range=10,\n",
        "    fill_mode='nearest',\n",
        "    brightness_range=[0.2,1.2],\n",
        "    vertical_flip = True,\n",
        "    horizontal_flip = True,\n",
        "    zoom_range = 0.1,\n",
        ")\n",
        "\n",
        "val_datagen = ImageDataGenerator(\n",
        "    rescale = 1/255\n",
        ")"
      ],
      "metadata": {
        "id": "Mkq_APs0dnNB"
      },
      "execution_count": 7,
      "outputs": []
    },
    {
      "cell_type": "code",
      "source": [
        "train_generator  = train_datagen.flow_from_directory(\n",
        "    '/content/train',\n",
        "    target_size = (150,150),\n",
        "    batch_size = 32,\n",
        "    class_mode = 'binary'\n",
        ")\n",
        "\n",
        "val_generator  = val_datagen.flow_from_directory(\n",
        "    '/content/validation',\n",
        "    target_size = (150,150),\n",
        "    batch_size = 32,\n",
        "    class_mode = 'binary'\n",
        ")"
      ],
      "metadata": {
        "colab": {
          "base_uri": "https://localhost:8080/"
        },
        "id": "HsRjWwFLeD9g",
        "outputId": "924c560a-da50-4973-a3b9-fa3903cac2b6"
      },
      "execution_count": 8,
      "outputs": [
        {
          "output_type": "stream",
          "name": "stdout",
          "text": [
            "Found 460 images belonging to 2 classes.\n",
            "Found 55 images belonging to 2 classes.\n"
          ]
        }
      ]
    },
    {
      "cell_type": "markdown",
      "source": [
        "### Import Library"
      ],
      "metadata": {
        "id": "UagsARh9DHEj"
      }
    },
    {
      "cell_type": "code",
      "source": [
        "import tensorflow as tf\n",
        "from tensorflow.keras import Sequential\n",
        "from tensorflow.keras.layers import Conv2D, MaxPooling2D, Flatten, Dense\n",
        "from tensorflow.keras.callbacks import EarlyStopping\n",
        "import matplotlib.pyplot as plt"
      ],
      "metadata": {
        "id": "qHvYE2dEeLL6"
      },
      "execution_count": 9,
      "outputs": []
    },
    {
      "cell_type": "markdown",
      "source": [
        "### Membuat Model"
      ],
      "metadata": {
        "id": "RgMzqM45DM2C"
      }
    },
    {
      "cell_type": "code",
      "source": [
        "model = Sequential([\n",
        "    # 1. feature extraction layer\n",
        "    Conv2D(16,(3,3), activation = 'relu', input_shape = (150,150,3)),\n",
        "    MaxPooling2D(2,2),\n",
        "    Conv2D(64,(3,3), activation = 'relu'),\n",
        "    MaxPooling2D(2,2),\n",
        "    Conv2D(64,(3,3), activation = 'relu'),\n",
        "    MaxPooling2D(2,2),\n",
        "    # 2. fully connected layer\n",
        "    Flatten(),\n",
        "    Dense(512, activation = 'relu'),\n",
        "    Dense(256, activation = 'relu'),\n",
        "    Dense(128, activation = 'relu'),\n",
        "    Dense(64, activation = 'relu'),\n",
        "    Dense(1, activation = 'sigmoid')\n",
        "])\n",
        "\n",
        "model.compile(optimizer = 'adam',\n",
        "              loss = 'binary_crossentropy',\n",
        "              metrics = ['accuracy'])"
      ],
      "metadata": {
        "id": "ahvG1q50elaU"
      },
      "execution_count": 10,
      "outputs": []
    },
    {
      "cell_type": "markdown",
      "source": [
        "### Membuat Callback"
      ],
      "metadata": {
        "id": "kTpFyl3JDQN0"
      }
    },
    {
      "cell_type": "code",
      "source": [
        "early_stopping = EarlyStopping(monitor='val_loss', patience=10)"
      ],
      "metadata": {
        "id": "rH_rgVWXfN9R"
      },
      "execution_count": 11,
      "outputs": []
    },
    {
      "cell_type": "markdown",
      "source": [
        "### Melatih Model"
      ],
      "metadata": {
        "id": "iSmneHjrDSix"
      }
    },
    {
      "cell_type": "code",
      "source": [
        "history = model.fit(train_generator, epochs = 50,\n",
        "          validation_data = val_generator,\n",
        "          verbose = 1, callbacks=[early_stopping])"
      ],
      "metadata": {
        "colab": {
          "base_uri": "https://localhost:8080/"
        },
        "id": "RWEGqr0ae15S",
        "outputId": "b5eb706f-0b8a-4e2a-93f2-158cd4f2e5c2"
      },
      "execution_count": 12,
      "outputs": [
        {
          "output_type": "stream",
          "name": "stdout",
          "text": [
            "Epoch 1/50\n"
          ]
        },
        {
          "output_type": "stream",
          "name": "stderr",
          "text": [
            "/usr/local/lib/python3.10/dist-packages/PIL/Image.py:996: UserWarning: Palette images with Transparency expressed in bytes should be converted to RGBA images\n",
            "  warnings.warn(\n"
          ]
        },
        {
          "output_type": "stream",
          "name": "stdout",
          "text": [
            "15/15 [==============================] - 16s 266ms/step - loss: 0.6999 - accuracy: 0.4804 - val_loss: 0.6886 - val_accuracy: 0.5818\n",
            "Epoch 2/50\n",
            "15/15 [==============================] - 4s 250ms/step - loss: 0.6955 - accuracy: 0.5370 - val_loss: 0.6907 - val_accuracy: 0.5273\n",
            "Epoch 3/50\n",
            "15/15 [==============================] - 4s 243ms/step - loss: 0.6781 - accuracy: 0.5891 - val_loss: 0.7492 - val_accuracy: 0.5636\n",
            "Epoch 4/50\n",
            "15/15 [==============================] - 4s 239ms/step - loss: 0.6895 - accuracy: 0.5261 - val_loss: 0.6660 - val_accuracy: 0.6000\n",
            "Epoch 5/50\n",
            "15/15 [==============================] - 5s 305ms/step - loss: 0.6654 - accuracy: 0.6304 - val_loss: 0.6816 - val_accuracy: 0.6364\n",
            "Epoch 6/50\n",
            "15/15 [==============================] - 4s 239ms/step - loss: 0.6598 - accuracy: 0.6109 - val_loss: 0.7319 - val_accuracy: 0.6000\n",
            "Epoch 7/50\n",
            "15/15 [==============================] - 4s 239ms/step - loss: 0.6456 - accuracy: 0.6196 - val_loss: 0.7036 - val_accuracy: 0.6000\n",
            "Epoch 8/50\n",
            "15/15 [==============================] - 4s 269ms/step - loss: 0.6629 - accuracy: 0.5826 - val_loss: 0.6339 - val_accuracy: 0.5273\n",
            "Epoch 9/50\n",
            "15/15 [==============================] - 4s 251ms/step - loss: 0.6511 - accuracy: 0.6565 - val_loss: 0.6024 - val_accuracy: 0.6182\n",
            "Epoch 10/50\n",
            "15/15 [==============================] - 4s 245ms/step - loss: 0.6368 - accuracy: 0.6761 - val_loss: 0.6342 - val_accuracy: 0.6545\n",
            "Epoch 11/50\n",
            "15/15 [==============================] - 5s 322ms/step - loss: 0.6575 - accuracy: 0.6348 - val_loss: 0.6048 - val_accuracy: 0.6727\n",
            "Epoch 12/50\n",
            "15/15 [==============================] - 4s 239ms/step - loss: 0.6089 - accuracy: 0.6761 - val_loss: 0.5793 - val_accuracy: 0.7091\n",
            "Epoch 13/50\n",
            "15/15 [==============================] - 4s 245ms/step - loss: 0.5899 - accuracy: 0.6826 - val_loss: 0.7489 - val_accuracy: 0.5818\n",
            "Epoch 14/50\n",
            "15/15 [==============================] - 5s 315ms/step - loss: 0.5789 - accuracy: 0.6848 - val_loss: 0.4709 - val_accuracy: 0.7818\n",
            "Epoch 15/50\n",
            "15/15 [==============================] - 4s 242ms/step - loss: 0.5736 - accuracy: 0.7065 - val_loss: 0.5332 - val_accuracy: 0.7273\n",
            "Epoch 16/50\n",
            "15/15 [==============================] - 4s 248ms/step - loss: 0.5538 - accuracy: 0.7000 - val_loss: 0.4874 - val_accuracy: 0.7091\n",
            "Epoch 17/50\n",
            "15/15 [==============================] - 4s 244ms/step - loss: 0.5298 - accuracy: 0.7109 - val_loss: 0.4817 - val_accuracy: 0.7455\n",
            "Epoch 18/50\n",
            "15/15 [==============================] - 4s 241ms/step - loss: 0.4981 - accuracy: 0.7370 - val_loss: 0.5647 - val_accuracy: 0.6909\n",
            "Epoch 19/50\n",
            "15/15 [==============================] - 5s 316ms/step - loss: 0.5257 - accuracy: 0.7370 - val_loss: 0.3835 - val_accuracy: 0.7818\n",
            "Epoch 20/50\n",
            "15/15 [==============================] - 4s 251ms/step - loss: 0.5090 - accuracy: 0.7478 - val_loss: 0.5225 - val_accuracy: 0.7091\n",
            "Epoch 21/50\n",
            "15/15 [==============================] - 4s 239ms/step - loss: 0.5300 - accuracy: 0.7304 - val_loss: 0.5164 - val_accuracy: 0.7091\n",
            "Epoch 22/50\n",
            "15/15 [==============================] - 5s 319ms/step - loss: 0.4716 - accuracy: 0.7804 - val_loss: 0.4169 - val_accuracy: 0.7636\n",
            "Epoch 23/50\n",
            "15/15 [==============================] - 4s 250ms/step - loss: 0.5016 - accuracy: 0.7804 - val_loss: 0.6194 - val_accuracy: 0.6182\n",
            "Epoch 24/50\n",
            "15/15 [==============================] - 4s 237ms/step - loss: 0.5030 - accuracy: 0.7370 - val_loss: 0.6879 - val_accuracy: 0.6545\n",
            "Epoch 25/50\n",
            "15/15 [==============================] - 5s 323ms/step - loss: 0.4325 - accuracy: 0.7891 - val_loss: 0.7262 - val_accuracy: 0.7273\n",
            "Epoch 26/50\n",
            "15/15 [==============================] - 5s 322ms/step - loss: 0.3973 - accuracy: 0.8196 - val_loss: 0.6424 - val_accuracy: 0.7273\n",
            "Epoch 27/50\n",
            "15/15 [==============================] - 4s 236ms/step - loss: 0.4381 - accuracy: 0.7848 - val_loss: 0.7551 - val_accuracy: 0.6364\n",
            "Epoch 28/50\n",
            "15/15 [==============================] - 5s 316ms/step - loss: 0.3868 - accuracy: 0.8239 - val_loss: 0.7228 - val_accuracy: 0.7091\n",
            "Epoch 29/50\n",
            "15/15 [==============================] - 4s 237ms/step - loss: 0.3450 - accuracy: 0.8413 - val_loss: 0.9588 - val_accuracy: 0.6364\n"
          ]
        }
      ]
    },
    {
      "cell_type": "markdown",
      "source": [
        "### Mengubah Bentuk dari Test"
      ],
      "metadata": {
        "id": "kjQncmzeDVof"
      }
    },
    {
      "cell_type": "code",
      "source": [
        "test_datagen  = ImageDataGenerator(\n",
        "    rescale = 1/255\n",
        ")\n",
        "\n",
        "test_generator = test_datagen.flow_from_directory(\n",
        "    '/content/test',\n",
        "    target_size = (150,150),\n",
        "    batch_size = 32,\n",
        "    class_mode = 'binary'\n",
        ")"
      ],
      "metadata": {
        "colab": {
          "base_uri": "https://localhost:8080/"
        },
        "id": "CCJbL8D_gXwU",
        "outputId": "2a7277fa-1562-4a02-92a7-c688a8c597c4"
      },
      "execution_count": 13,
      "outputs": [
        {
          "output_type": "stream",
          "name": "stdout",
          "text": [
            "Found 60 images belonging to 2 classes.\n"
          ]
        }
      ]
    },
    {
      "cell_type": "markdown",
      "source": [
        "### Mengecek Hasil dari Model"
      ],
      "metadata": {
        "id": "xJ6qopwnDib7"
      }
    },
    {
      "cell_type": "code",
      "source": [
        "model.evaluate(test_generator)"
      ],
      "metadata": {
        "colab": {
          "base_uri": "https://localhost:8080/"
        },
        "id": "5OHhntlJhA-F",
        "outputId": "2b8a9bcd-ae03-4777-ad4a-8f94ec6bf316"
      },
      "execution_count": 14,
      "outputs": [
        {
          "output_type": "stream",
          "name": "stdout",
          "text": [
            "2/2 [==============================] - 0s 256ms/step - loss: 0.7654 - accuracy: 0.7333\n"
          ]
        },
        {
          "output_type": "execute_result",
          "data": {
            "text/plain": [
              "[0.7653670907020569, 0.7333333492279053]"
            ]
          },
          "metadata": {},
          "execution_count": 14
        }
      ]
    },
    {
      "cell_type": "markdown",
      "source": [
        "### Membuat Hasil Plot"
      ],
      "metadata": {
        "id": "jyzEeeCNDwaW"
      }
    },
    {
      "cell_type": "code",
      "source": [
        "plt.plot(history.history['accuracy'])\n",
        "plt.plot(history.history['val_accuracy'])\n",
        "plt.title('Akurasi Model')\n",
        "plt.ylabel('Akurasi')\n",
        "plt.xlabel('Epoch')\n",
        "plt.legend(['Train', 'Val'], loc='upper left')\n",
        "plt.show()"
      ],
      "metadata": {
        "colab": {
          "base_uri": "https://localhost:8080/",
          "height": 472
        },
        "id": "3ebjc61ghDGk",
        "outputId": "afafbd38-c300-4919-e8b5-e06b14a5edde"
      },
      "execution_count": 15,
      "outputs": [
        {
          "output_type": "display_data",
          "data": {
            "text/plain": [
              "<Figure size 640x480 with 1 Axes>"
            ],
            "image/png": "[encoded data removed]"
          },
          "metadata": {}
        }
      ]
    },
    {
      "cell_type": "markdown",
      "source": [
        "Dari hasil di atas dapat kita lihat bahwa hasil train mencapai 80% sedangkan hasil dari test hanya di sekitar 70%"
      ],
      "metadata": {
        "id": "i8DXnafXD31S"
      }
    },
    {
      "cell_type": "code",
      "source": [
        "plt.plot(history.history['loss'])\n",
        "plt.plot(history.history['val_loss'])\n",
        "plt.title('Loss dari Model')\n",
        "plt.ylabel('Loss')\n",
        "plt.xlabel('Epoch')\n",
        "plt.legend(['Train', 'Val'], loc='upper left')\n",
        "plt.show()"
      ],
      "metadata": {
        "colab": {
          "base_uri": "https://localhost:8080/",
          "height": 472
        },
        "id": "aZ30fl56hS2s",
        "outputId": "d604d4e4-97cd-424e-9131-df967fe479d8"
      },
      "execution_count": 16,
      "outputs": [
        {
          "output_type": "display_data",
          "data": {
            "text/plain": [
              "<Figure size 640x480 with 1 Axes>"
            ],
            "image/png": "[encoded data removed]"
          },
          "metadata": {}
        }
      ]
    },
    {
      "cell_type": "markdown",
      "source": [
        "Dari hasil di atas dapat kita lihat bahwa hasil train mencapai di bawah 50% sedangkan hasil dari test hanya di sekitar di atas dari 79%"
      ],
      "metadata": {
        "id": "0UM2G4n6EFzt"
      }
    }
  ]
}