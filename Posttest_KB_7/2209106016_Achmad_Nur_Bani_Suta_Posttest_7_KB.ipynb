{
  "nbformat": 4,
  "nbformat_minor": 0,
  "metadata": {
    "colab": {
      "provenance": [],
      "gpuType": "T4"
    },
    "kernelspec": {
      "name": "python3",
      "display_name": "Python 3"
    },
    "language_info": {
      "name": "python"
    },
    "accelerator": "GPU"
  },
  "cells": [
    {
      "cell_type": "markdown",
      "source": [
        "# ACHMAD NUR BANI SUTA (2209106016)\n",
        "## Posttest 7"
      ],
      "metadata": {
        "id": "HRKxragACksu"
      }
    },
    {
      "cell_type": "markdown",
      "source": [
        "### Mengekstrak Folder Dataset"
      ],
      "metadata": {
        "id": "EqZ7Lc4nCgZM"
      }
    },
    {
      "cell_type": "markdown",
      "source": [
        "LINK DATASET : https://www.kaggle.com/datasets/ifeanyinneji/nike-adidas-shoes-for-image-classification-dataset/data\n",
        "\n",
        "LINK DATASET YANG DIGABUNG ULANG : https://drive.google.com/file/d/1ECMDwcVpvTu4thRnZxO1VPkeu7U8b1eC/view?usp=sharing"
      ],
      "metadata": {
        "id": "MAdF_SV0EUcI"
      }
    },
    {
      "cell_type": "code",
      "source": [
        "!unzip '/content/drive/MyDrive/dataset_image.zip'"
      ],
      "metadata": {
        "id": "5gu5wfElnybl",
        "colab": {
          "base_uri": "https://localhost:8080/"
        },
        "outputId": "f8bc50ba-728f-4e45-df7a-491b66892b69"
      },
      "execution_count": 1,
      "outputs": [
        {
          "output_type": "stream",
          "name": "stdout",
          "text": [
            "Archive:  /content/drive/MyDrive/dataset_image.zip\n",
            "   creating: dataset_image/adidas/\n",
            "  inflating: dataset_image/adidas/aadidas_ (10).jpg  \n",
            "  inflating: dataset_image/adidas/aadidas_ (11).jpg  \n",
            "  inflating: dataset_image/adidas/aadidas_ (12).jpg  \n",
            "  inflating: dataset_image/adidas/aadidas_ (13).jpg  \n",
            "  inflating: dataset_image/adidas/aadidas_ (14).jpg  \n",
            "  inflating: dataset_image/adidas/aadidas_ (15).jpg  \n",
            "  inflating: dataset_image/adidas/aadidas_ (16).jpg  \n",
            "  inflating: dataset_image/adidas/aadidas_ (17).jpg  \n",
            "  inflating: dataset_image/adidas/aadidas_ (18).jpg  \n",
            "  inflating: dataset_image/adidas/aadidas_ (19).jpg  \n",
            "  inflating: dataset_image/adidas/aadidas_ (2).jpg  \n",
            "  inflating: dataset_image/adidas/aadidas_ (20).jpg  \n",
            "  inflating: dataset_image/adidas/aadidas_ (21).jpg  \n",
            "  inflating: dataset_image/adidas/aadidas_ (22).jpg  \n",
            "  inflating: dataset_image/adidas/aadidas_ (23).jpg  \n",
            "  inflating: dataset_image/adidas/aadidas_ (24).jpg  \n",
            "  inflating: dataset_image/adidas/aadidas_ (3).jpg  \n",
            "  inflating: dataset_image/adidas/aadidas_ (4).jpg  \n",
            "  inflating: dataset_image/adidas/aadidas_ (5).jpg  \n",
            "  inflating: dataset_image/adidas/aadidas_ (6).jpg  \n",
            "  inflating: dataset_image/adidas/aadidas_ (7).jpg  \n",
            "  inflating: dataset_image/adidas/aadidas_ (8).jpg  \n",
            "  inflating: dataset_image/adidas/aadidas_ (9).jpg  \n",
            "  inflating: dataset_image/adidas/Adidas (1).jpg  \n",
            "  inflating: dataset_image/adidas/Adidas (10).jpg  \n",
            "  inflating: dataset_image/adidas/Adidas (11).jpg  \n",
            "  inflating: dataset_image/adidas/Adidas (12).jpg  \n",
            "  inflating: dataset_image/adidas/Adidas (13).jpg  \n",
            "  inflating: dataset_image/adidas/Adidas (14).jpg  \n",
            "  inflating: dataset_image/adidas/Adidas (15).jpg  \n",
            "  inflating: dataset_image/adidas/Adidas (16).jpg  \n",
            "  inflating: dataset_image/adidas/Adidas (17).jpg  \n",
            "  inflating: dataset_image/adidas/Adidas (18).jpg  \n",
            "  inflating: dataset_image/adidas/Adidas (19).jpg  \n",
            "  inflating: dataset_image/adidas/Adidas (2).jpg  \n",
            "  inflating: dataset_image/adidas/Adidas (20).jpg  \n",
            "  inflating: dataset_image/adidas/Adidas (21).JPG  \n",
            "  inflating: dataset_image/adidas/Adidas (22).jpg  \n",
            "  inflating: dataset_image/adidas/Adidas (23).jpg  \n",
            "  inflating: dataset_image/adidas/Adidas (24).jpg  \n",
            "  inflating: dataset_image/adidas/Adidas (25).jpg  \n",
            "  inflating: dataset_image/adidas/Adidas (26).jpg  \n",
            "  inflating: dataset_image/adidas/Adidas (27).jpg  \n",
            "  inflating: dataset_image/adidas/Adidas (28).jpg  \n",
            "  inflating: dataset_image/adidas/Adidas (29).jpg  \n",
            "  inflating: dataset_image/adidas/Adidas (3).jpg  \n",
            "  inflating: dataset_image/adidas/Adidas (30).jpg  \n",
            "  inflating: dataset_image/adidas/Adidas (31).jpg  \n",
            "  inflating: dataset_image/adidas/Adidas (32).jpg  \n",
            "  inflating: dataset_image/adidas/Adidas (33).jpg  \n",
            "  inflating: dataset_image/adidas/Adidas (34).jpg  \n",
            "  inflating: dataset_image/adidas/Adidas (35).jpg  \n",
            "  inflating: dataset_image/adidas/Adidas (36).jpg  \n",
            "  inflating: dataset_image/adidas/Adidas (37).jpg  \n",
            "  inflating: dataset_image/adidas/Adidas (38).jpg  \n",
            "  inflating: dataset_image/adidas/Adidas (39).jpg  \n",
            "  inflating: dataset_image/adidas/Adidas (4).jpg  \n",
            "  inflating: dataset_image/adidas/Adidas (40).jpg  \n",
            "  inflating: dataset_image/adidas/Adidas (41).jpg  \n",
            "  inflating: dataset_image/adidas/Adidas (42).jpg  \n",
            "  inflating: dataset_image/adidas/Adidas (43).jpg  \n",
            "  inflating: dataset_image/adidas/Adidas (44).jpg  \n",
            "  inflating: dataset_image/adidas/Adidas (45).jpg  \n",
            "  inflating: dataset_image/adidas/Adidas (46).jpg  \n",
            "  inflating: dataset_image/adidas/Adidas (47).jpg  \n",
            "  inflating: dataset_image/adidas/Adidas (48).jpg  \n",
            "  inflating: dataset_image/adidas/Adidas (49).jpg  \n",
            "  inflating: dataset_image/adidas/Adidas (5).jpg  \n",
            "  inflating: dataset_image/adidas/Adidas (50).jpg  \n",
            "  inflating: dataset_image/adidas/Adidas (51).jpg  \n",
            "  inflating: dataset_image/adidas/Adidas (52).jpg  \n",
            "  inflating: dataset_image/adidas/Adidas (53).jpg  \n",
            "  inflating: dataset_image/adidas/Adidas (54).JPG  \n",
            "  inflating: dataset_image/adidas/Adidas (55).jpg  \n",
            "  inflating: dataset_image/adidas/Adidas (56).jpg  \n",
            "  inflating: dataset_image/adidas/Adidas (57).jpg  \n",
            "  inflating: dataset_image/adidas/Adidas (58).jpg  \n",
            "  inflating: dataset_image/adidas/Adidas (59).jpg  \n",
            "  inflating: dataset_image/adidas/Adidas (6).jpg  \n",
            "  inflating: dataset_image/adidas/Adidas (60).jpg  \n",
            "  inflating: dataset_image/adidas/Adidas (61).jpg  \n",
            "  inflating: dataset_image/adidas/Adidas (62).jpg  \n",
            "  inflating: dataset_image/adidas/Adidas (63).jpg  \n",
            "  inflating: dataset_image/adidas/Adidas (64).jpg  \n",
            "  inflating: dataset_image/adidas/Adidas (65).JPG  \n",
            "  inflating: dataset_image/adidas/Adidas (66).jpg  \n",
            "  inflating: dataset_image/adidas/Adidas (67).jpg  \n",
            "  inflating: dataset_image/adidas/Adidas (68).JPG  \n",
            "  inflating: dataset_image/adidas/Adidas (69).jpg  \n",
            "  inflating: dataset_image/adidas/Adidas (7).jpg  \n",
            "  inflating: dataset_image/adidas/Adidas (70).jpg  \n",
            "  inflating: dataset_image/adidas/Adidas (71).jpg  \n",
            "  inflating: dataset_image/adidas/Adidas (72).jpg  \n",
            "  inflating: dataset_image/adidas/Adidas (73).jpg  \n",
            "  inflating: dataset_image/adidas/Adidas (74).jpg  \n",
            "  inflating: dataset_image/adidas/Adidas (75).JPG  \n",
            "  inflating: dataset_image/adidas/Adidas (76).jpg  \n",
            "  inflating: dataset_image/adidas/Adidas (77).jpg  \n",
            "  inflating: dataset_image/adidas/Adidas (78).jpg  \n",
            "  inflating: dataset_image/adidas/Adidas (79).jpg  \n",
            "  inflating: dataset_image/adidas/Adidas (8).jpg  \n",
            "  inflating: dataset_image/adidas/Adidas (80).jpg  \n",
            "  inflating: dataset_image/adidas/Adidas (81).jpg  \n",
            "  inflating: dataset_image/adidas/Adidas (82).jpg  \n",
            "  inflating: dataset_image/adidas/Adidas (83).jpg  \n",
            "  inflating: dataset_image/adidas/Adidas (84).jpg  \n",
            "  inflating: dataset_image/adidas/Adidas (85).jpg  \n",
            "  inflating: dataset_image/adidas/Adidas (86).jpg  \n",
            "  inflating: dataset_image/adidas/Adidas (87).jpg  \n",
            "  inflating: dataset_image/adidas/Adidas (88).jpg  \n",
            "  inflating: dataset_image/adidas/Adidas (89).jpg  \n",
            "  inflating: dataset_image/adidas/Adidas (9).jpg  \n",
            "  inflating: dataset_image/adidas/adidas_ (1).jpg  \n",
            "  inflating: dataset_image/adidas/adidas_ (10).jpg  \n",
            "  inflating: dataset_image/adidas/adidas_ (100).jpg  \n",
            "  inflating: dataset_image/adidas/adidas_ (101).jpg  \n",
            "  inflating: dataset_image/adidas/adidas_ (102).jpg  \n",
            "  inflating: dataset_image/adidas/adidas_ (103).jpg  \n",
            "  inflating: dataset_image/adidas/adidas_ (104).jpg  \n",
            "  inflating: dataset_image/adidas/adidas_ (105).jpg  \n",
            "  inflating: dataset_image/adidas/adidas_ (106).jpg  \n",
            "  inflating: dataset_image/adidas/adidas_ (107).jpg  \n",
            "  inflating: dataset_image/adidas/adidas_ (108).jpg  \n",
            "  inflating: dataset_image/adidas/adidas_ (109).jpg  \n",
            "  inflating: dataset_image/adidas/adidas_ (11).jpg  \n",
            "  inflating: dataset_image/adidas/adidas_ (110).jpg  \n",
            "  inflating: dataset_image/adidas/adidas_ (111).jpg  \n",
            "  inflating: dataset_image/adidas/adidas_ (112).jpg  \n",
            "  inflating: dataset_image/adidas/adidas_ (113).jpg  \n",
            "  inflating: dataset_image/adidas/adidas_ (114).jpg  \n",
            "  inflating: dataset_image/adidas/adidas_ (115).jpg  \n",
            "  inflating: dataset_image/adidas/adidas_ (116).jpg  \n",
            "  inflating: dataset_image/adidas/adidas_ (117).jpg  \n",
            "  inflating: dataset_image/adidas/adidas_ (118).jpg  \n",
            "  inflating: dataset_image/adidas/adidas_ (119).jpg  \n",
            "  inflating: dataset_image/adidas/adidas_ (12).jpg  \n",
            "  inflating: dataset_image/adidas/adidas_ (120).jpg  \n",
            "  inflating: dataset_image/adidas/adidas_ (121).jpg  \n",
            "  inflating: dataset_image/adidas/adidas_ (122).jpg  \n",
            "  inflating: dataset_image/adidas/adidas_ (123).jpg  \n",
            "  inflating: dataset_image/adidas/adidas_ (124).jpg  \n",
            "  inflating: dataset_image/adidas/adidas_ (125).jpg  \n",
            "  inflating: dataset_image/adidas/adidas_ (126).jpg  \n",
            "  inflating: dataset_image/adidas/adidas_ (127).jpg  \n",
            "  inflating: dataset_image/adidas/adidas_ (128).jpg  \n",
            "  inflating: dataset_image/adidas/adidas_ (129).jpg  \n",
            "  inflating: dataset_image/adidas/adidas_ (13).jpg  \n",
            "  inflating: dataset_image/adidas/adidas_ (130).jpg  \n",
            "  inflating: dataset_image/adidas/adidas_ (131).jpg  \n",
            "  inflating: dataset_image/adidas/adidas_ (132).jpg  \n",
            "  inflating: dataset_image/adidas/adidas_ (133).jpg  \n",
            "  inflating: dataset_image/adidas/adidas_ (134).jpg  \n",
            "  inflating: dataset_image/adidas/adidas_ (135).jpg  \n",
            "  inflating: dataset_image/adidas/adidas_ (136).jpg  \n",
            "  inflating: dataset_image/adidas/adidas_ (137).jpg  \n",
            "  inflating: dataset_image/adidas/adidas_ (138).jpg  \n",
            "  inflating: dataset_image/adidas/adidas_ (139).jpg  \n",
            "  inflating: dataset_image/adidas/adidas_ (14).jpg  \n",
            "  inflating: dataset_image/adidas/adidas_ (140).jpg  \n",
            "  inflating: dataset_image/adidas/adidas_ (141).jpg  \n",
            "  inflating: dataset_image/adidas/adidas_ (142).jpg  \n",
            "  inflating: dataset_image/adidas/adidas_ (143).jpg  \n",
            "  inflating: dataset_image/adidas/adidas_ (144).jpg  \n",
            "  inflating: dataset_image/adidas/adidas_ (145).jpg  \n",
            "  inflating: dataset_image/adidas/adidas_ (146).jpg  \n",
            "  inflating: dataset_image/adidas/adidas_ (147).jpg  \n",
            "  inflating: dataset_image/adidas/adidas_ (148).jpg  \n",
            "  inflating: dataset_image/adidas/adidas_ (149).jpg  \n",
            "  inflating: dataset_image/adidas/adidas_ (15).jpg  \n",
            "  inflating: dataset_image/adidas/adidas_ (150).jpg  \n",
            "  inflating: dataset_image/adidas/adidas_ (151).jpg  \n",
            "  inflating: dataset_image/adidas/adidas_ (152).jpg  \n",
            "  inflating: dataset_image/adidas/adidas_ (153).jpg  \n",
            "  inflating: dataset_image/adidas/adidas_ (154).jpg  \n",
            "  inflating: dataset_image/adidas/adidas_ (155).jpg  \n",
            "  inflating: dataset_image/adidas/adidas_ (16).jpg  \n",
            "  inflating: dataset_image/adidas/adidas_ (17).jpg  \n",
            "  inflating: dataset_image/adidas/adidas_ (18).jpg  \n",
            "  inflating: dataset_image/adidas/adidas_ (19).jpg  \n",
            "  inflating: dataset_image/adidas/adidas_ (2).jpg  \n",
            "  inflating: dataset_image/adidas/adidas_ (20).jpg  \n",
            "  inflating: dataset_image/adidas/adidas_ (21).jpg  \n",
            "  inflating: dataset_image/adidas/adidas_ (22).jpg  \n",
            "  inflating: dataset_image/adidas/adidas_ (23).jpg  \n",
            "  inflating: dataset_image/adidas/adidas_ (24).jpg  \n",
            "  inflating: dataset_image/adidas/adidas_ (25).jpg  \n",
            "  inflating: dataset_image/adidas/adidas_ (26).jpg  \n",
            "  inflating: dataset_image/adidas/adidas_ (27).jpg  \n",
            "  inflating: dataset_image/adidas/adidas_ (28).jpg  \n",
            "  inflating: dataset_image/adidas/adidas_ (29).jpg  \n",
            "  inflating: dataset_image/adidas/adidas_ (3).jpg  \n",
            "  inflating: dataset_image/adidas/adidas_ (30).jpg  \n",
            "  inflating: dataset_image/adidas/adidas_ (31).jpg  \n",
            "  inflating: dataset_image/adidas/adidas_ (32).jpg  \n",
            "  inflating: dataset_image/adidas/adidas_ (33).jpg  \n",
            "  inflating: dataset_image/adidas/adidas_ (34).jpg  \n",
            "  inflating: dataset_image/adidas/adidas_ (35).jpg  \n",
            "  inflating: dataset_image/adidas/adidas_ (36).jpg  \n",
            "  inflating: dataset_image/adidas/adidas_ (37).jpg  \n",
            "  inflating: dataset_image/adidas/adidas_ (38).jpg  \n",
            "  inflating: dataset_image/adidas/adidas_ (39).jpg  \n",
            "  inflating: dataset_image/adidas/adidas_ (4).jpg  \n",
            "  inflating: dataset_image/adidas/adidas_ (40).jpg  \n",
            "  inflating: dataset_image/adidas/adidas_ (41).jpg  \n",
            "  inflating: dataset_image/adidas/adidas_ (42).jpg  \n",
            "  inflating: dataset_image/adidas/adidas_ (43).jpg  \n",
            "  inflating: dataset_image/adidas/adidas_ (44).jpg  \n",
            "  inflating: dataset_image/adidas/adidas_ (45).jpg  \n",
            "  inflating: dataset_image/adidas/adidas_ (46).jpg  \n",
            "  inflating: dataset_image/adidas/adidas_ (47).jpg  \n",
            "  inflating: dataset_image/adidas/adidas_ (48).jpg  \n",
            "  inflating: dataset_image/adidas/adidas_ (49).jpg  \n",
            "  inflating: dataset_image/adidas/adidas_ (5).jpg  \n",
            "  inflating: dataset_image/adidas/adidas_ (50).jpg  \n",
            "  inflating: dataset_image/adidas/adidas_ (51).jpg  \n",
            "  inflating: dataset_image/adidas/adidas_ (52).jpg  \n",
            "  inflating: dataset_image/adidas/adidas_ (53).jpg  \n",
            "  inflating: dataset_image/adidas/adidas_ (54).jpg  \n",
            "  inflating: dataset_image/adidas/adidas_ (55).jpg  \n",
            "  inflating: dataset_image/adidas/adidas_ (56).jpg  \n",
            "  inflating: dataset_image/adidas/adidas_ (57).jpg  \n",
            "  inflating: dataset_image/adidas/adidas_ (58).jpg  \n",
            "  inflating: dataset_image/adidas/adidas_ (59).jpg  \n",
            "  inflating: dataset_image/adidas/adidas_ (6).jpg  \n",
            "  inflating: dataset_image/adidas/adidas_ (60).jpg  \n",
            "  inflating: dataset_image/adidas/adidas_ (61).jpg  \n",
            "  inflating: dataset_image/adidas/adidas_ (62).jpg  \n",
            "  inflating: dataset_image/adidas/adidas_ (63).jpg  \n",
            "  inflating: dataset_image/adidas/adidas_ (64).jpg  \n",
            "  inflating: dataset_image/adidas/adidas_ (65).jpg  \n",
            "  inflating: dataset_image/adidas/adidas_ (66).jpg  \n",
            "  inflating: dataset_image/adidas/adidas_ (67).jpg  \n",
            "  inflating: dataset_image/adidas/adidas_ (68).jpg  \n",
            "  inflating: dataset_image/adidas/adidas_ (69).jpg  \n",
            "  inflating: dataset_image/adidas/adidas_ (7).jpg  \n",
            "  inflating: dataset_image/adidas/adidas_ (70).jpg  \n",
            "  inflating: dataset_image/adidas/adidas_ (71).jpg  \n",
            "  inflating: dataset_image/adidas/adidas_ (72).jpg  \n",
            "  inflating: dataset_image/adidas/adidas_ (73).jpg  \n",
            "  inflating: dataset_image/adidas/adidas_ (74).jpg  \n",
            "  inflating: dataset_image/adidas/adidas_ (75).jpg  \n",
            "  inflating: dataset_image/adidas/adidas_ (76).jpg  \n",
            "  inflating: dataset_image/adidas/adidas_ (77).jpg  \n",
            "  inflating: dataset_image/adidas/adidas_ (78).jpg  \n",
            "  inflating: dataset_image/adidas/adidas_ (79).jpg  \n",
            "  inflating: dataset_image/adidas/adidas_ (8).jpg  \n",
            "  inflating: dataset_image/adidas/adidas_ (80).jpg  \n",
            "  inflating: dataset_image/adidas/adidas_ (81).jpg  \n",
            "  inflating: dataset_image/adidas/adidas_ (82).jpg  \n",
            "  inflating: dataset_image/adidas/adidas_ (83).jpg  \n",
            "  inflating: dataset_image/adidas/adidas_ (84).jpg  \n",
            "  inflating: dataset_image/adidas/adidas_ (85).jpg  \n",
            "  inflating: dataset_image/adidas/adidas_ (86).jpg  \n",
            "  inflating: dataset_image/adidas/adidas_ (87).jpg  \n",
            "  inflating: dataset_image/adidas/adidas_ (88).jpg  \n",
            "  inflating: dataset_image/adidas/adidas_ (89).jpg  \n",
            "  inflating: dataset_image/adidas/adidas_ (9).jpg  \n",
            "  inflating: dataset_image/adidas/adidas_ (90).jpg  \n",
            "  inflating: dataset_image/adidas/adidas_ (91).jpg  \n",
            "  inflating: dataset_image/adidas/adidas_ (92).jpg  \n",
            "  inflating: dataset_image/adidas/adidas_ (93).jpg  \n",
            "  inflating: dataset_image/adidas/adidas_ (94).jpg  \n",
            "  inflating: dataset_image/adidas/adidas_ (95).jpg  \n",
            "  inflating: dataset_image/adidas/adidas_ (96).jpg  \n",
            "  inflating: dataset_image/adidas/adidas_ (97).jpg  \n",
            "  inflating: dataset_image/adidas/adidas_ (98).jpg  \n",
            "  inflating: dataset_image/adidas/adidas_ (99).jpg  \n",
            "  inflating: dataset_image/adidas/adidass_(11).jpg  \n",
            " extracting: dataset_image/adidas/adidass_(12).jpg  \n",
            " extracting: dataset_image/adidas/adidass_(13).jpg  \n",
            "  inflating: dataset_image/adidas/adidass_(14).jpg  \n",
            "  inflating: dataset_image/adidas/adidass_(15).jpg  \n",
            "  inflating: dataset_image/adidas/adidass_(16).jpg  \n",
            "  inflating: dataset_image/adidas/adidass_(17).jpg  \n",
            "  inflating: dataset_image/adidas/adidass_(18).jpg  \n",
            "  inflating: dataset_image/adidas/adidass_(19).jpg  \n",
            "  inflating: dataset_image/adidas/adidass_(20).jpg  \n",
            "  inflating: dataset_image/adidas/adidass_(21).jpg  \n",
            "  inflating: dataset_image/adidas/adidass_(22).jpg  \n",
            " extracting: dataset_image/adidas/adidass_(23).jpg  \n",
            "  inflating: dataset_image/adidas/adidass_(24).jpg  \n",
            " extracting: dataset_image/adidas/adidass_(25).jpg  \n",
            "  inflating: dataset_image/adidas/adidass_(26).jpg  \n",
            "  inflating: dataset_image/adidas/adidass_(27).jpg  \n",
            "  inflating: dataset_image/adidas/adidass_(28).jpg  \n",
            "  inflating: dataset_image/adidas/adidass_(29).jpg  \n",
            " extracting: dataset_image/adidas/adidass_(30).jpg  \n",
            "   creating: dataset_image/nike/\n",
            "  inflating: dataset_image/nike/Image_1.jpg  \n",
            "  inflating: dataset_image/nike/Image_10.jpg  \n",
            "  inflating: dataset_image/nike/Image_100.jpg  \n",
            "  inflating: dataset_image/nike/Image_101.jpg  \n",
            "  inflating: dataset_image/nike/Image_102.jpg  \n",
            "  inflating: dataset_image/nike/Image_103.jpg  \n",
            "  inflating: dataset_image/nike/Image_104.JPG  \n",
            "  inflating: dataset_image/nike/Image_105.jpg  \n",
            "  inflating: dataset_image/nike/Image_106.jpg  \n",
            "  inflating: dataset_image/nike/Image_107.jpg  \n",
            "  inflating: dataset_image/nike/Image_108.jpg  \n",
            "  inflating: dataset_image/nike/Image_109.jpg  \n",
            "  inflating: dataset_image/nike/Image_11.jpg  \n",
            "  inflating: dataset_image/nike/Image_110.jpg  \n",
            "  inflating: dataset_image/nike/Image_111.jpg  \n",
            "  inflating: dataset_image/nike/Image_112.jpg  \n",
            "  inflating: dataset_image/nike/Image_113.jpg  \n",
            "  inflating: dataset_image/nike/Image_114.jpg  \n",
            "  inflating: dataset_image/nike/Image_115.jpg  \n",
            "  inflating: dataset_image/nike/Image_116.jpg  \n",
            "  inflating: dataset_image/nike/Image_117.jpg  \n",
            "  inflating: dataset_image/nike/Image_118.jpg  \n",
            "  inflating: dataset_image/nike/Image_119.jpg  \n",
            "  inflating: dataset_image/nike/Image_12.JPG  \n",
            "  inflating: dataset_image/nike/Image_120.jpg  \n",
            "  inflating: dataset_image/nike/Image_121.jpg  \n",
            "  inflating: dataset_image/nike/Image_122.jpg  \n",
            "  inflating: dataset_image/nike/Image_123.jpg  \n",
            "  inflating: dataset_image/nike/Image_124.jpg  \n",
            "  inflating: dataset_image/nike/Image_125.jpg  \n",
            "  inflating: dataset_image/nike/Image_126.jpg  \n",
            "  inflating: dataset_image/nike/Image_127.JPG  \n",
            "  inflating: dataset_image/nike/Image_128.jpg  \n",
            "  inflating: dataset_image/nike/Image_129.jpg  \n",
            "  inflating: dataset_image/nike/Image_13.JPG  \n",
            "  inflating: dataset_image/nike/Image_130.jpg  \n",
            "  inflating: dataset_image/nike/Image_131.jpg  \n",
            "  inflating: dataset_image/nike/Image_132.jpg  \n",
            "  inflating: dataset_image/nike/Image_133.jpg  \n",
            "  inflating: dataset_image/nike/Image_134.jpg  \n",
            "  inflating: dataset_image/nike/Image_135.jpg  \n",
            "  inflating: dataset_image/nike/Image_136.jpg  \n",
            "  inflating: dataset_image/nike/Image_137.jpg  \n",
            "  inflating: dataset_image/nike/Image_138.jpg  \n",
            "  inflating: dataset_image/nike/Image_139.jpg  \n",
            "  inflating: dataset_image/nike/Image_14.jpg  \n",
            "  inflating: dataset_image/nike/Image_140.jpg  \n",
            "  inflating: dataset_image/nike/Image_141.jpg  \n",
            "  inflating: dataset_image/nike/Image_142.jpg  \n",
            "  inflating: dataset_image/nike/Image_143.jpg  \n",
            "  inflating: dataset_image/nike/Image_144.jpg  \n",
            "  inflating: dataset_image/nike/Image_145.jpg  \n",
            "  inflating: dataset_image/nike/Image_146.jpg  \n",
            "  inflating: dataset_image/nike/Image_147.jpg  \n",
            "  inflating: dataset_image/nike/Image_148.jpg  \n",
            "  inflating: dataset_image/nike/Image_149.jpg  \n",
            "  inflating: dataset_image/nike/Image_15.jpg  \n",
            "  inflating: dataset_image/nike/Image_150.jpg  \n",
            "  inflating: dataset_image/nike/Image_151.jpg  \n",
            "  inflating: dataset_image/nike/Image_152.jpg  \n",
            "  inflating: dataset_image/nike/Image_153.jpg  \n",
            "  inflating: dataset_image/nike/Image_154.jpg  \n",
            "  inflating: dataset_image/nike/Image_155.jpg  \n",
            "  inflating: dataset_image/nike/Image_156.jpg  \n",
            "  inflating: dataset_image/nike/Image_157.jpg  \n",
            "  inflating: dataset_image/nike/Image_158.jpg  \n",
            "  inflating: dataset_image/nike/Image_159.jpg  \n",
            "  inflating: dataset_image/nike/Image_16.JPG  \n",
            "  inflating: dataset_image/nike/Image_160.jpg  \n",
            "  inflating: dataset_image/nike/Image_161.jpg  \n",
            "  inflating: dataset_image/nike/Image_162.jpg  \n",
            "  inflating: dataset_image/nike/Image_163.jpg  \n",
            "  inflating: dataset_image/nike/Image_164.jpg  \n",
            "  inflating: dataset_image/nike/Image_165.jpg  \n",
            "  inflating: dataset_image/nike/Image_166.jpg  \n",
            "  inflating: dataset_image/nike/Image_167.jpg  \n",
            "  inflating: dataset_image/nike/Image_168.jpg  \n",
            "  inflating: dataset_image/nike/Image_169.jpg  \n",
            "  inflating: dataset_image/nike/Image_17.jpg  \n",
            "  inflating: dataset_image/nike/Image_170.jpg  \n",
            "  inflating: dataset_image/nike/Image_171.jpg  \n",
            "  inflating: dataset_image/nike/Image_172.jpg  \n",
            "  inflating: dataset_image/nike/Image_173.jpg  \n",
            "  inflating: dataset_image/nike/Image_174.jpg  \n",
            "  inflating: dataset_image/nike/Image_175.jpg  \n",
            "  inflating: dataset_image/nike/Image_176.jpg  \n",
            "  inflating: dataset_image/nike/Image_177.jpg  \n",
            "  inflating: dataset_image/nike/Image_178.jpg  \n",
            "  inflating: dataset_image/nike/Image_179.jpg  \n",
            "  inflating: dataset_image/nike/Image_18.jpg  \n",
            "  inflating: dataset_image/nike/Image_180.jpg  \n",
            "  inflating: dataset_image/nike/Image_181.jpg  \n",
            "  inflating: dataset_image/nike/Image_182.jpg  \n",
            "  inflating: dataset_image/nike/Image_183.jpg  \n",
            "  inflating: dataset_image/nike/Image_184.jpg  \n",
            "  inflating: dataset_image/nike/Image_185.jpg  \n",
            "  inflating: dataset_image/nike/Image_186.jpg  \n",
            "  inflating: dataset_image/nike/Image_187.jpg  \n",
            "  inflating: dataset_image/nike/Image_188.jpg  \n",
            "  inflating: dataset_image/nike/Image_189.jpg  \n",
            "  inflating: dataset_image/nike/Image_19.jpg  \n",
            "  inflating: dataset_image/nike/Image_190.jpg  \n",
            "  inflating: dataset_image/nike/Image_191.jpg  \n",
            "  inflating: dataset_image/nike/Image_192.jpg  \n",
            "  inflating: dataset_image/nike/Image_193.JPG  \n",
            "  inflating: dataset_image/nike/Image_194.jpg  \n",
            "  inflating: dataset_image/nike/Image_195.jpg  \n",
            "  inflating: dataset_image/nike/Image_196.jpg  \n",
            "  inflating: dataset_image/nike/Image_197.jpg  \n",
            "  inflating: dataset_image/nike/Image_198.jpg  \n",
            "  inflating: dataset_image/nike/Image_199.jpg  \n",
            "  inflating: dataset_image/nike/Image_2.JPG  \n",
            "  inflating: dataset_image/nike/Image_20.jpg  \n",
            "  inflating: dataset_image/nike/Image_200.jpg  \n",
            "  inflating: dataset_image/nike/Image_201.jpg  \n",
            "  inflating: dataset_image/nike/Image_202.jpg  \n",
            "  inflating: dataset_image/nike/Image_203.jpg  \n",
            "  inflating: dataset_image/nike/Image_204.jpg  \n",
            "  inflating: dataset_image/nike/Image_205.jpg  \n",
            "  inflating: dataset_image/nike/Image_206.jpg  \n",
            "  inflating: dataset_image/nike/Image_207.jpg  \n",
            "  inflating: dataset_image/nike/Image_208.jpg  \n",
            "  inflating: dataset_image/nike/Image_209.jpg  \n",
            "  inflating: dataset_image/nike/Image_21.jpg  \n",
            "  inflating: dataset_image/nike/Image_210.jpg  \n",
            "  inflating: dataset_image/nike/Image_211.jpg  \n",
            "  inflating: dataset_image/nike/Image_212.jpg  \n",
            "  inflating: dataset_image/nike/Image_213.jpg  \n",
            "  inflating: dataset_image/nike/Image_214.jpg  \n",
            "  inflating: dataset_image/nike/Image_215.jpg  \n",
            "  inflating: dataset_image/nike/Image_216.jpg  \n",
            "  inflating: dataset_image/nike/Image_217.jpg  \n",
            "  inflating: dataset_image/nike/Image_218.jpg  \n",
            "  inflating: dataset_image/nike/Image_219.jpg  \n",
            "  inflating: dataset_image/nike/Image_22.jpg  \n",
            "  inflating: dataset_image/nike/Image_220.jpg  \n",
            "  inflating: dataset_image/nike/Image_221.jpg  \n",
            "  inflating: dataset_image/nike/Image_222.jpg  \n",
            "  inflating: dataset_image/nike/Image_223.jpg  \n",
            "  inflating: dataset_image/nike/Image_224.jpg  \n",
            "  inflating: dataset_image/nike/Image_225.jpg  \n",
            "  inflating: dataset_image/nike/Image_226.jpg  \n",
            "  inflating: dataset_image/nike/Image_227.jpg  \n",
            "  inflating: dataset_image/nike/Image_228.jpg  \n",
            "  inflating: dataset_image/nike/Image_229.jpg  \n",
            "  inflating: dataset_image/nike/Image_23.jpg  \n",
            "  inflating: dataset_image/nike/Image_230.jpg  \n",
            "  inflating: dataset_image/nike/Image_231.jpg  \n",
            "  inflating: dataset_image/nike/Image_232.jpg  \n",
            "  inflating: dataset_image/nike/Image_233.jpg  \n",
            "  inflating: dataset_image/nike/Image_234.jpg  \n",
            "  inflating: dataset_image/nike/Image_235.jpg  \n",
            "  inflating: dataset_image/nike/Image_236.jpg  \n",
            "  inflating: dataset_image/nike/Image_237.jpg  \n",
            "  inflating: dataset_image/nike/Image_238.jpg  \n",
            "  inflating: dataset_image/nike/Image_239.jpg  \n",
            "  inflating: dataset_image/nike/Image_24.JPG  \n",
            "  inflating: dataset_image/nike/Image_240.jpg  \n",
            "  inflating: dataset_image/nike/Image_241.jpg  \n",
            "  inflating: dataset_image/nike/Image_242.jpg  \n",
            "  inflating: dataset_image/nike/Image_243.jpg  \n",
            "  inflating: dataset_image/nike/Image_244.jpg  \n",
            "  inflating: dataset_image/nike/Image_245.jpg  \n",
            "  inflating: dataset_image/nike/Image_246.jpg  \n",
            "  inflating: dataset_image/nike/Image_247.jpg  \n",
            "  inflating: dataset_image/nike/Image_248.jpg  \n",
            "  inflating: dataset_image/nike/Image_249.jpg  \n",
            "  inflating: dataset_image/nike/Image_25.jpg  \n",
            "  inflating: dataset_image/nike/Image_250.jpg  \n",
            "  inflating: dataset_image/nike/Image_251.jpg  \n",
            "  inflating: dataset_image/nike/Image_252.JPG  \n",
            "  inflating: dataset_image/nike/Image_253.jpg  \n",
            "  inflating: dataset_image/nike/Image_254.jpg  \n",
            "  inflating: dataset_image/nike/Image_255.jpg  \n",
            "  inflating: dataset_image/nike/Image_256.jpg  \n",
            "  inflating: dataset_image/nike/Image_257.jpg  \n",
            "  inflating: dataset_image/nike/Image_258.jpg  \n",
            "  inflating: dataset_image/nike/Image_259.jpg  \n",
            "  inflating: dataset_image/nike/Image_26.jpg  \n",
            "  inflating: dataset_image/nike/Image_260.jpg  \n",
            "  inflating: dataset_image/nike/Image_261.jpg  \n",
            "  inflating: dataset_image/nike/Image_262.jpg  \n",
            "  inflating: dataset_image/nike/Image_263.jpg  \n",
            "  inflating: dataset_image/nike/Image_264.jpg  \n",
            "  inflating: dataset_image/nike/Image_265.jpg  \n",
            "  inflating: dataset_image/nike/Image_266.jpg  \n",
            "  inflating: dataset_image/nike/Image_267.jpg  \n",
            "  inflating: dataset_image/nike/Image_268.jpg  \n",
            "  inflating: dataset_image/nike/Image_269.jpg  \n",
            "  inflating: dataset_image/nike/Image_27.jpg  \n",
            "  inflating: dataset_image/nike/Image_270.jpg  \n",
            "  inflating: dataset_image/nike/Image_271.jpg  \n",
            "  inflating: dataset_image/nike/Image_272.jpg  \n",
            "  inflating: dataset_image/nike/Image_273.jpg  \n",
            "  inflating: dataset_image/nike/Image_274.jpg  \n",
            "  inflating: dataset_image/nike/Image_275.jpg  \n",
            "  inflating: dataset_image/nike/Image_276.JPG  \n",
            "  inflating: dataset_image/nike/Image_277.jpg  \n",
            "  inflating: dataset_image/nike/Image_278.jpg  \n",
            "  inflating: dataset_image/nike/Image_279.jpg  \n",
            "  inflating: dataset_image/nike/Image_28.jpg  \n",
            "  inflating: dataset_image/nike/Image_280.jpg  \n",
            "  inflating: dataset_image/nike/Image_281.jpg  \n",
            "  inflating: dataset_image/nike/Image_282.jpg  \n",
            "  inflating: dataset_image/nike/Image_289.jpg  \n",
            "  inflating: dataset_image/nike/Image_29.jpg  \n",
            "  inflating: dataset_image/nike/Image_290.jpg  \n",
            "  inflating: dataset_image/nike/Image_291.jpg  \n",
            "  inflating: dataset_image/nike/Image_292.jpg  \n",
            "  inflating: dataset_image/nike/Image_299.jpg  \n",
            "  inflating: dataset_image/nike/Image_3.jpg  \n",
            "  inflating: dataset_image/nike/Image_30.jpg  \n",
            "  inflating: dataset_image/nike/Image_300.jpg  \n",
            "  inflating: dataset_image/nike/Image_31.jpg  \n",
            "  inflating: dataset_image/nike/Image_32.jpg  \n",
            "  inflating: dataset_image/nike/Image_33.jpg  \n",
            "  inflating: dataset_image/nike/Image_34.jpg  \n",
            "  inflating: dataset_image/nike/Image_35.jpg  \n",
            "  inflating: dataset_image/nike/Image_36.jpg  \n",
            "  inflating: dataset_image/nike/Image_37.jpg  \n",
            "  inflating: dataset_image/nike/Image_38.jpg  \n",
            "  inflating: dataset_image/nike/Image_39.JPG  \n",
            "  inflating: dataset_image/nike/Image_4.jpg  \n",
            "  inflating: dataset_image/nike/Image_40.jpg  \n",
            "  inflating: dataset_image/nike/Image_41.jpg  \n",
            "  inflating: dataset_image/nike/Image_42.jpg  \n",
            "  inflating: dataset_image/nike/Image_43.jpg  \n",
            "  inflating: dataset_image/nike/Image_44.jpg  \n",
            "  inflating: dataset_image/nike/Image_45.jpg  \n",
            "  inflating: dataset_image/nike/Image_46.jpg  \n",
            "  inflating: dataset_image/nike/Image_47.jpg  \n",
            "  inflating: dataset_image/nike/Image_48.jpg  \n",
            "  inflating: dataset_image/nike/Image_49.jpg  \n",
            "  inflating: dataset_image/nike/Image_5.jpg  \n",
            "  inflating: dataset_image/nike/Image_50.jpg  \n",
            "  inflating: dataset_image/nike/Image_51.jpg  \n",
            "  inflating: dataset_image/nike/Image_52.jpg  \n",
            "  inflating: dataset_image/nike/Image_53.jpg  \n",
            "  inflating: dataset_image/nike/Image_54.jpg  \n",
            "  inflating: dataset_image/nike/Image_55.jpg  \n",
            "  inflating: dataset_image/nike/Image_56.jpg  \n",
            "  inflating: dataset_image/nike/Image_57.jpg  \n",
            "  inflating: dataset_image/nike/Image_58.jpg  \n",
            "  inflating: dataset_image/nike/Image_59.jpg  \n",
            "  inflating: dataset_image/nike/Image_6.jpg  \n",
            "  inflating: dataset_image/nike/Image_60.jpg  \n",
            "  inflating: dataset_image/nike/Image_61.jpg  \n",
            "  inflating: dataset_image/nike/Image_62.jpg  \n",
            "  inflating: dataset_image/nike/Image_63.jpg  \n",
            "  inflating: dataset_image/nike/Image_64.JPG  \n",
            "  inflating: dataset_image/nike/Image_65.jpg  \n",
            "  inflating: dataset_image/nike/Image_66.jpg  \n",
            "  inflating: dataset_image/nike/Image_67.jpg  \n",
            "  inflating: dataset_image/nike/Image_68.jpg  \n",
            "  inflating: dataset_image/nike/Image_69.jpg  \n",
            "  inflating: dataset_image/nike/Image_7.JPG  \n",
            "  inflating: dataset_image/nike/Image_70.jpg  \n",
            "  inflating: dataset_image/nike/Image_71.jpg  \n",
            "  inflating: dataset_image/nike/Image_72.jpg  \n",
            "  inflating: dataset_image/nike/Image_73.JPG  \n",
            "  inflating: dataset_image/nike/Image_74.jpg  \n",
            "  inflating: dataset_image/nike/Image_75.jpg  \n",
            "  inflating: dataset_image/nike/Image_76.jpg  \n",
            "  inflating: dataset_image/nike/Image_77.jpg  \n",
            "  inflating: dataset_image/nike/Image_78.JPG  \n",
            "  inflating: dataset_image/nike/Image_79.jpg  \n",
            "  inflating: dataset_image/nike/Image_8.JPG  \n",
            "  inflating: dataset_image/nike/Image_80.jpg  \n",
            "  inflating: dataset_image/nike/Image_81.jpg  \n",
            "  inflating: dataset_image/nike/Image_82.jpg  \n",
            "  inflating: dataset_image/nike/Image_83.jpg  \n",
            "  inflating: dataset_image/nike/Image_84.jpg  \n",
            "  inflating: dataset_image/nike/Image_85.jpg  \n",
            "  inflating: dataset_image/nike/Image_86.jpg  \n",
            "  inflating: dataset_image/nike/Image_87.JPG  \n",
            "  inflating: dataset_image/nike/Image_88.jpg  \n",
            "  inflating: dataset_image/nike/Image_89.jpg  \n",
            "  inflating: dataset_image/nike/Image_9.jpg  \n",
            "  inflating: dataset_image/nike/Image_90.jpg  \n",
            "  inflating: dataset_image/nike/Image_91.jpg  \n",
            "  inflating: dataset_image/nike/Image_92.jpg  \n",
            "  inflating: dataset_image/nike/Image_93.jpg  \n",
            "  inflating: dataset_image/nike/Image_94.jpg  \n",
            "  inflating: dataset_image/nike/Image_95.jpg  \n",
            "  inflating: dataset_image/nike/Image_96.jpg  \n",
            "  inflating: dataset_image/nike/Image_97.jpg  \n",
            "  inflating: dataset_image/nike/Image_98.jpg  \n",
            "  inflating: dataset_image/nike/Image_99.JPG  \n"
          ]
        }
      ]
    },
    {
      "cell_type": "markdown",
      "source": [
        "### Membagi folder dataset"
      ],
      "metadata": {
        "id": "t0G9CRRmw6li"
      }
    },
    {
      "cell_type": "code",
      "source": [
        "!pip install split-folders"
      ],
      "metadata": {
        "id": "g9_KbntHn2H1",
        "colab": {
          "base_uri": "https://localhost:8080/"
        },
        "outputId": "350fc992-2dd5-409e-f1eb-a67ed8c13468"
      },
      "execution_count": 2,
      "outputs": [
        {
          "output_type": "stream",
          "name": "stdout",
          "text": [
            "Requirement already satisfied: split-folders in /usr/local/lib/python3.10/dist-packages (0.5.1)\n"
          ]
        }
      ]
    },
    {
      "cell_type": "code",
      "source": [
        "import splitfolders"
      ],
      "metadata": {
        "id": "-MmAbtMZMRYw"
      },
      "execution_count": 3,
      "outputs": []
    },
    {
      "cell_type": "code",
      "source": [
        "splitfolders.ratio(\"dataset_image\",\n",
        "                   output=\"dataset_final\",\n",
        "                   seed = 1337,\n",
        "                   ratio=(.8,.1,.1))"
      ],
      "metadata": {
        "id": "e2pQv6v3n5Hq",
        "colab": {
          "base_uri": "https://localhost:8080/"
        },
        "outputId": "3e1912a8-693d-4c4a-afad-7b4c4de7dfb0"
      },
      "execution_count": 4,
      "outputs": [
        {
          "output_type": "stream",
          "name": "stderr",
          "text": [
            "Copying files: 575 files [00:00, 2040.16 files/s]\n"
          ]
        }
      ]
    },
    {
      "cell_type": "markdown",
      "source": [
        "Folder Dataset dibagi dengan rasio 80% train, 10% test, dan 10% val"
      ],
      "metadata": {
        "id": "KmNQlT7zw-Tc"
      }
    },
    {
      "cell_type": "code",
      "source": [
        "from tensorflow.keras.preprocessing.image import ImageDataGenerator"
      ],
      "metadata": {
        "id": "yMfHPMVqdQqa"
      },
      "execution_count": 5,
      "outputs": []
    },
    {
      "cell_type": "markdown",
      "source": [
        "### Mengubah Bentuk Dari Train dan Val"
      ],
      "metadata": {
        "id": "6ViAdSKyCyPQ"
      }
    },
    {
      "cell_type": "code",
      "source": [
        "train_datagen = ImageDataGenerator(\n",
        "    rescale= 1./ 255,\n",
        "    shear_range=0.2,\n",
        "    zoom_range=0.2,\n",
        "    horizontal_flip=True\n",
        ")\n",
        "\n",
        "val_datagen = ImageDataGenerator(\n",
        "    rescale = 1./255\n",
        ")"
      ],
      "metadata": {
        "id": "Mkq_APs0dnNB"
      },
      "execution_count": 6,
      "outputs": []
    },
    {
      "cell_type": "code",
      "source": [
        "train_generator  = train_datagen.flow_from_directory(\n",
        "    '/content/dataset_final/train',\n",
        "    target_size = (224,224),\n",
        "    batch_size = 32,\n",
        "    class_mode = 'binary'\n",
        ")\n",
        "\n",
        "val_generator  = val_datagen.flow_from_directory(\n",
        "    '/content/dataset_final/val',\n",
        "    target_size = (224,224),\n",
        "    batch_size = 32,\n",
        "    class_mode = 'binary'\n",
        ")"
      ],
      "metadata": {
        "colab": {
          "base_uri": "https://localhost:8080/"
        },
        "id": "HsRjWwFLeD9g",
        "outputId": "57ad5e52-4f43-4d46-ea55-2ac29fce95e1"
      },
      "execution_count": 7,
      "outputs": [
        {
          "output_type": "stream",
          "name": "stdout",
          "text": [
            "Found 459 images belonging to 2 classes.\n",
            "Found 56 images belonging to 2 classes.\n"
          ]
        }
      ]
    },
    {
      "cell_type": "markdown",
      "source": [
        "### Import Library"
      ],
      "metadata": {
        "id": "UagsARh9DHEj"
      }
    },
    {
      "cell_type": "code",
      "source": [
        "import tensorflow as tf\n",
        "from tensorflow.keras import Sequential\n",
        "from tensorflow.keras.layers import Conv2D, MaxPooling2D, Flatten, Dense\n",
        "from tensorflow.keras.callbacks import EarlyStopping\n",
        "import matplotlib.pyplot as plt"
      ],
      "metadata": {
        "id": "qHvYE2dEeLL6"
      },
      "execution_count": 8,
      "outputs": []
    },
    {
      "cell_type": "markdown",
      "source": [
        "### Membuat Model"
      ],
      "metadata": {
        "id": "RgMzqM45DM2C"
      }
    },
    {
      "cell_type": "code",
      "source": [
        "model = Sequential([\n",
        "    # 1. feature extraction layer\n",
        "    Conv2D(32,(3,3), activation = 'relu', input_shape = (224,224,3)),\n",
        "    MaxPooling2D(2,2),\n",
        "    Conv2D(32,(3,3), activation = 'relu'),\n",
        "    MaxPooling2D(2,2),\n",
        "    Conv2D(64,(3,3), activation = 'relu'),\n",
        "    MaxPooling2D(2,2),\n",
        "    # 2. fully connected layer\n",
        "    Flatten(),\n",
        "    Dense(128, activation = 'relu'),\n",
        "    Dense(64, activation = 'relu'),\n",
        "    Dense(1, activation = 'sigmoid')\n",
        "])\n",
        "\n",
        "model.compile(optimizer = 'adam',\n",
        "              loss = 'binary_crossentropy',\n",
        "              metrics = ['accuracy'])"
      ],
      "metadata": {
        "id": "ahvG1q50elaU"
      },
      "execution_count": 9,
      "outputs": []
    },
    {
      "cell_type": "markdown",
      "source": [
        "### Membuat Callback"
      ],
      "metadata": {
        "id": "kTpFyl3JDQN0"
      }
    },
    {
      "cell_type": "code",
      "source": [
        "early_stopping = EarlyStopping(monitor='val_loss', patience=10)"
      ],
      "metadata": {
        "id": "rH_rgVWXfN9R"
      },
      "execution_count": 10,
      "outputs": []
    },
    {
      "cell_type": "markdown",
      "source": [
        "### Melatih Model"
      ],
      "metadata": {
        "id": "iSmneHjrDSix"
      }
    },
    {
      "cell_type": "code",
      "source": [
        "history = model.fit(train_generator, epochs = 50,\n",
        "          validation_data = val_generator,\n",
        "          verbose = 1, callbacks=[early_stopping])"
      ],
      "metadata": {
        "colab": {
          "base_uri": "https://localhost:8080/"
        },
        "id": "RWEGqr0ae15S",
        "outputId": "540ddd93-8ea3-4b55-86a7-a030e4ed7fc9"
      },
      "execution_count": 11,
      "outputs": [
        {
          "output_type": "stream",
          "name": "stdout",
          "text": [
            "Epoch 1/50\n",
            " 8/15 [===============>..............] - ETA: 1s - loss: 0.9461 - accuracy: 0.5352"
          ]
        },
        {
          "output_type": "stream",
          "name": "stderr",
          "text": [
            "/usr/local/lib/python3.10/dist-packages/PIL/Image.py:996: UserWarning: Palette images with Transparency expressed in bytes should be converted to RGBA images\n",
            "  warnings.warn(\n"
          ]
        },
        {
          "output_type": "stream",
          "name": "stdout",
          "text": [
            "15/15 [==============================] - 20s 365ms/step - loss: 0.8364 - accuracy: 0.5163 - val_loss: 0.6872 - val_accuracy: 0.5000\n",
            "Epoch 2/50\n",
            "15/15 [==============================] - 7s 502ms/step - loss: 0.6821 - accuracy: 0.6057 - val_loss: 0.6553 - val_accuracy: 0.6786\n",
            "Epoch 3/50\n",
            "15/15 [==============================] - 6s 369ms/step - loss: 0.6505 - accuracy: 0.6405 - val_loss: 0.6355 - val_accuracy: 0.6607\n",
            "Epoch 4/50\n",
            "15/15 [==============================] - 5s 356ms/step - loss: 0.6428 - accuracy: 0.6427 - val_loss: 0.6029 - val_accuracy: 0.6964\n",
            "Epoch 5/50\n",
            "15/15 [==============================] - 7s 497ms/step - loss: 0.6497 - accuracy: 0.6514 - val_loss: 0.6077 - val_accuracy: 0.7143\n",
            "Epoch 6/50\n",
            "15/15 [==============================] - 5s 351ms/step - loss: 0.6055 - accuracy: 0.6928 - val_loss: 0.6668 - val_accuracy: 0.5714\n",
            "Epoch 7/50\n",
            "15/15 [==============================] - 7s 491ms/step - loss: 0.6284 - accuracy: 0.6340 - val_loss: 0.6167 - val_accuracy: 0.7500\n",
            "Epoch 8/50\n",
            "15/15 [==============================] - 6s 382ms/step - loss: 0.5685 - accuracy: 0.7124 - val_loss: 0.6022 - val_accuracy: 0.7143\n",
            "Epoch 9/50\n",
            "15/15 [==============================] - 7s 494ms/step - loss: 0.5719 - accuracy: 0.7124 - val_loss: 0.6103 - val_accuracy: 0.6607\n",
            "Epoch 10/50\n",
            "15/15 [==============================] - 6s 418ms/step - loss: 0.5544 - accuracy: 0.7429 - val_loss: 0.5769 - val_accuracy: 0.8036\n",
            "Epoch 11/50\n",
            "15/15 [==============================] - 5s 354ms/step - loss: 0.5061 - accuracy: 0.7495 - val_loss: 0.6089 - val_accuracy: 0.7500\n",
            "Epoch 12/50\n",
            "15/15 [==============================] - 6s 378ms/step - loss: 0.4597 - accuracy: 0.7930 - val_loss: 0.5528 - val_accuracy: 0.7679\n",
            "Epoch 13/50\n",
            "15/15 [==============================] - 5s 358ms/step - loss: 0.4547 - accuracy: 0.7821 - val_loss: 0.6335 - val_accuracy: 0.6964\n",
            "Epoch 14/50\n",
            "15/15 [==============================] - 8s 534ms/step - loss: 0.4374 - accuracy: 0.7908 - val_loss: 0.5489 - val_accuracy: 0.7857\n",
            "Epoch 15/50\n",
            "15/15 [==============================] - 8s 483ms/step - loss: 0.3829 - accuracy: 0.8366 - val_loss: 0.6426 - val_accuracy: 0.7679\n",
            "Epoch 16/50\n",
            "15/15 [==============================] - 5s 353ms/step - loss: 0.3597 - accuracy: 0.8257 - val_loss: 0.6302 - val_accuracy: 0.7143\n",
            "Epoch 17/50\n",
            "15/15 [==============================] - 6s 413ms/step - loss: 0.3966 - accuracy: 0.8083 - val_loss: 0.6925 - val_accuracy: 0.8036\n",
            "Epoch 18/50\n",
            "15/15 [==============================] - 5s 360ms/step - loss: 0.3740 - accuracy: 0.8453 - val_loss: 0.5681 - val_accuracy: 0.7500\n",
            "Epoch 19/50\n",
            "15/15 [==============================] - 7s 488ms/step - loss: 0.2898 - accuracy: 0.8802 - val_loss: 0.7749 - val_accuracy: 0.7500\n",
            "Epoch 20/50\n",
            "15/15 [==============================] - 6s 380ms/step - loss: 0.2998 - accuracy: 0.8715 - val_loss: 0.7711 - val_accuracy: 0.7857\n",
            "Epoch 21/50\n",
            "15/15 [==============================] - 8s 506ms/step - loss: 0.2908 - accuracy: 0.8649 - val_loss: 0.7316 - val_accuracy: 0.7857\n",
            "Epoch 22/50\n",
            "15/15 [==============================] - 5s 358ms/step - loss: 0.2739 - accuracy: 0.8976 - val_loss: 0.6206 - val_accuracy: 0.7500\n",
            "Epoch 23/50\n",
            "15/15 [==============================] - 7s 458ms/step - loss: 0.2525 - accuracy: 0.8867 - val_loss: 0.7130 - val_accuracy: 0.7679\n",
            "Epoch 24/50\n",
            "15/15 [==============================] - 5s 354ms/step - loss: 0.2410 - accuracy: 0.8932 - val_loss: 0.7414 - val_accuracy: 0.8214\n"
          ]
        }
      ]
    },
    {
      "cell_type": "markdown",
      "source": [
        "### Mengubah Bentuk dari Test"
      ],
      "metadata": {
        "id": "kjQncmzeDVof"
      }
    },
    {
      "cell_type": "code",
      "source": [
        "test_datagen  = ImageDataGenerator(\n",
        "    rescale = 1./255\n",
        ")\n",
        "\n",
        "test_generator = test_datagen.flow_from_directory(\n",
        "    '/content/dataset_final/test',\n",
        "    target_size = (224,224),\n",
        "    batch_size = 32,\n",
        "    class_mode = 'binary'\n",
        ")"
      ],
      "metadata": {
        "colab": {
          "base_uri": "https://localhost:8080/"
        },
        "id": "CCJbL8D_gXwU",
        "outputId": "227f5c46-9c2c-47af-f161-764a05d8f864"
      },
      "execution_count": 12,
      "outputs": [
        {
          "output_type": "stream",
          "name": "stdout",
          "text": [
            "Found 60 images belonging to 2 classes.\n"
          ]
        }
      ]
    },
    {
      "cell_type": "markdown",
      "source": [
        "### Mengecek Hasil dari Model"
      ],
      "metadata": {
        "id": "xJ6qopwnDib7"
      }
    },
    {
      "cell_type": "code",
      "source": [
        "model.evaluate(test_generator)"
      ],
      "metadata": {
        "colab": {
          "base_uri": "https://localhost:8080/"
        },
        "id": "5OHhntlJhA-F",
        "outputId": "eb13883d-f8c4-4dd2-a034-64b8536b0175"
      },
      "execution_count": 13,
      "outputs": [
        {
          "output_type": "stream",
          "name": "stdout",
          "text": [
            "2/2 [==============================] - 1s 407ms/step - loss: 1.0018 - accuracy: 0.6833\n"
          ]
        },
        {
          "output_type": "execute_result",
          "data": {
            "text/plain": [
              "[1.0018315315246582, 0.6833333373069763]"
            ]
          },
          "metadata": {},
          "execution_count": 13
        }
      ]
    },
    {
      "cell_type": "markdown",
      "source": [
        "### Membuat Hasil Plot"
      ],
      "metadata": {
        "id": "jyzEeeCNDwaW"
      }
    },
    {
      "cell_type": "code",
      "source": [
        "plt.plot(history.history['accuracy'])\n",
        "plt.plot(history.history['val_accuracy'])\n",
        "plt.title('Akurasi Model')\n",
        "plt.ylabel('Akurasi')\n",
        "plt.xlabel('Epoch')\n",
        "plt.legend(['Train', 'Val'], loc='upper left')\n",
        "plt.show()"
      ],
      "metadata": {
        "colab": {
          "base_uri": "https://localhost:8080/",
          "height": 472
        },
        "id": "3ebjc61ghDGk",
        "outputId": "e287c173-6689-4a55-963a-08ac09643126"
      },
      "execution_count": 14,
      "outputs": [
        {
          "output_type": "display_data",
          "data": {
            "text/plain": [
              "<Figure size 640x480 with 1 Axes>"
            ],
            "image/png": "[encoded data removed]"
          },
          "metadata": {}
        }
      ]
    },
    {
      "cell_type": "markdown",
      "source": [
        "Dari hasil di atas dapat kita lihat bahwa hasil train mencapai 80% sedangkan hasil dari test juga dapat menembus sekitar 70% keatas"
      ],
      "metadata": {
        "id": "i8DXnafXD31S"
      }
    },
    {
      "cell_type": "code",
      "source": [
        "plt.plot(history.history['loss'])\n",
        "plt.plot(history.history['val_loss'])\n",
        "plt.title('Loss dari Model')\n",
        "plt.ylabel('Loss')\n",
        "plt.xlabel('Epoch')\n",
        "plt.legend(['Train', 'Val'], loc='upper left')\n",
        "plt.show()"
      ],
      "metadata": {
        "colab": {
          "base_uri": "https://localhost:8080/",
          "height": 472
        },
        "id": "aZ30fl56hS2s",
        "outputId": "173927f8-b8e4-4d84-b614-40e442cb2d72"
      },
      "execution_count": 15,
      "outputs": [
        {
          "output_type": "display_data",
          "data": {
            "text/plain": [
              "<Figure size 640x480 with 1 Axes>"
            ],
            "image/png": "[encoded data removed]"
          },
          "metadata": {}
        }
      ]
    },
    {
      "cell_type": "markdown",
      "source": [
        "Dari hasil di atas dapat kita lihat bahwa hasil train mencapai di bawah 50% sedangkan hasil dari test berada di sekitar di atas dari 70%"
      ],
      "metadata": {
        "id": "0UM2G4n6EFzt"
      }
    }
  ]
}